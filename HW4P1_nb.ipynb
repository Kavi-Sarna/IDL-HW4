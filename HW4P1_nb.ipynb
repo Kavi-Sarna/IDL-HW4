{
  "cells": [
    {
      "cell_type": "markdown",
      "metadata": {
        "id": "l3ytyXW-7Q6o"
      },
      "source": [
        "# Setup\n",
        "-  Follow the setup instructions based on your preferred environment!"
      ]
    },
    {
      "cell_type": "markdown",
      "metadata": {
        "id": "QeJDFDo87Q6s"
      },
      "source": [
        "## Local"
      ]
    },
    {
      "cell_type": "markdown",
      "metadata": {},
      "source": [
        "One of our key goals in designing this assignment is to allow you to complete most of the preliminary implementation work locally.  \n",
        "We highly recommend that you **pass all tests locally** using the provided `hw4_data_subset` before moving to a GPU runtime.  \n",
        "To do this, simply:\n",
        "\n",
        "### Create a new conda environment\n",
        "```bash\n",
        "# Be sure to deactivate any active environments first\n",
        "conda create -n hw4 python=3.12.4\n",
        "```\n",
        "\n",
        "### Activate the conda environment\n",
        "```bash\n",
        "conda activate hw4\n",
        "```\n",
        "\n",
        "### Install the dependencies using the provided `requirements.txt`\n",
        "```bash\n",
        "pip install --no-cache-dir --ignore-installed -r requirements.txt\n",
        "```\n",
        "\n",
        "### Ensure that your notebook is in the same working directory as the `Handout`\n",
        "This can be achieved by:\n",
        "1. Physically moving the notebook into the handout directory.\n",
        "2. Changing the notebook’s current working directory to the handout directory using the os.chdir() function.\n",
        "\n",
        "### Open the notebook and select the newly created environment from the kernel selector.\n",
        "\n",
        "If everything was done correctly, You should see atleast the following files in your current working directory after running `!ls`:\n",
        "```\n",
        ".\n",
        "├── README.md\n",
        "├── requirements.txt\n",
        "├── hw4lib/\n",
        "├── mytorch/\n",
        "├── tests/\n",
        "└── hw4_data_subset/\n",
        "```"
      ]
    },
    {
      "cell_type": "markdown",
      "metadata": {
        "id": "tub92oPW7Q6t"
      },
      "source": [
        "## Colab"
      ]
    },
    {
      "cell_type": "markdown",
      "metadata": {
        "id": "N5qfxCxq7l-f"
      },
      "source": [
        "### Step 1: Get your handout\n",
        "- See writeup for recommended approaches."
      ]
    },
    {
      "cell_type": "code",
      "execution_count": null,
      "metadata": {
        "id": "V0wRO-k-7Q6u"
      },
      "outputs": [],
      "source": [
        "# Example: My preferred approach\n",
        "import os\n",
        "# Settings -> Developer Settings -> Personal Access Tokens -> Token (classic)\n",
        "os.environ['GITHUB_TOKEN'] = \"your_token_here\"\n",
        "\n",
        "GITHUB_USERNAME = \"your_username_here\"\n",
        "REPO_NAME       = \"your_repo_name_here\"\n",
        "TOKEN = os.environ.get(\"GITHUB_TOKEN\")\n",
        "repo_url        = f\"https://{TOKEN}@github.com/{GITHUB_USERNAME}/{REPO_NAME}.git\"\n",
        "!git clone {repo_url}"
      ]
    },
    {
      "cell_type": "code",
      "execution_count": null,
      "metadata": {
        "id": "KmxMiKjIYv2_"
      },
      "outputs": [],
      "source": [
        "# To pull latest changes (Must be in the repo dir, use pwd/ls to verify)\n",
        "!cd {REPO_NAME} && git pull"
      ]
    },
    {
      "cell_type": "markdown",
      "metadata": {
        "id": "IfOQStjw7Q6w"
      },
      "source": [
        "### Step 2: Install Dependencies\n",
        "- `NOTE`: Your runtime will be restarted to ensure all dependencies are updated.\n",
        "- `NOTE`: You will see a runtime crashed message, this was intentionally done. Simply move on to the next cell."
      ]
    },
    {
      "cell_type": "code",
      "execution_count": null,
      "metadata": {
        "collapsed": true,
        "id": "maupv9q17Q6w"
      },
      "outputs": [],
      "source": [
        "%pip install --no-deps -r IDL-HW4/requirements.txt\n",
        "import os\n",
        "os.kill(os.getpid(), 9) # NOTE: This will restart the your colab Python runtime (required)!"
      ]
    },
    {
      "cell_type": "markdown",
      "metadata": {
        "id": "0Yj32DflNHuI"
      },
      "source": [
        "### Step 3: Obtain Data\n",
        "\n",
        "- `NOTE`: This process will automatically download and unzip data for both `HW4P1` and `HW4P2`.  \n"
      ]
    },
    {
      "cell_type": "code",
      "execution_count": null,
      "metadata": {
        "id": "KeP-XgwYA_M3"
      },
      "outputs": [],
      "source": [
        "!curl -L -o /content/s25-hw4-data.zip https://www.kaggle.com/api/v1/datasets/download/cmu11785/s25-hw4-data\n",
        "!unzip -q -o /content/s25-hw4-data.zip -d /content/hw4_data\n",
        "!rm -rf /content/s25-hw4-data.zip\n",
        "!du -h --max-depth=2 /content/hw4_data"
      ]
    },
    {
      "cell_type": "markdown",
      "metadata": {
        "id": "p2YwJ0hy7Q6x"
      },
      "source": [
        "### Step 4: Move to Handout Directory\n",
        "You must be within the handout directory for the library imports to work!\n",
        "\n",
        "- `NOTE`: You may have to repeat running this command anytime you restart your runtime.\n",
        "- `NOTE`: You can do a `pwd` to check if you are in the right directory.\n",
        "- `NOTE`: The way it is setup currently, Your data directory should be one level up from your project directory. Keep this in mind when you are setting your `root` in the config file.\n",
        "\n",
        "If everything was done correctly, You should see atleast the following files in your current working directory after running `!ls`:\n",
        "```\n",
        ".\n",
        "├── README.md\n",
        "├── requirements.txt\n",
        "├── hw4lib/\n",
        "├── mytorch/\n",
        "├── tests/\n",
        "└── hw4_data_subset/\n",
        "\n",
        "```"
      ]
    },
    {
      "cell_type": "code",
      "execution_count": null,
      "metadata": {
        "id": "fzYdDIxw7Q6x"
      },
      "outputs": [],
      "source": [
        "import os\n",
        "os.chdir('IDL-HW4')\n",
        "!ls"
      ]
    },
    {
      "cell_type": "markdown",
      "metadata": {},
      "source": [
        "## Kaggle"
      ]
    },
    {
      "cell_type": "markdown",
      "metadata": {},
      "source": [
        "While it is possible to run the notebook on Kaggle, we would recommend against it. This assignment is more resource intensive and may run slower on Kaggle. "
      ]
    },
    {
      "cell_type": "markdown",
      "metadata": {},
      "source": [
        "### Step 1: Get your handout\n",
        "- See writeup for recommended approaches."
      ]
    },
    {
      "cell_type": "code",
      "execution_count": null,
      "metadata": {},
      "outputs": [],
      "source": [
        "# Example: My preferred approach\n",
        "import os\n",
        "# Settings -> Developer Settings -> Personal Access Tokens -> Token (classic)\n",
        "os.environ['GITHUB_TOKEN'] = \"your_token_here\"\n",
        "\n",
        "GITHUB_USERNAME = \"your_username_here\"\n",
        "REPO_NAME       = \"your_repo_name_here\"\n",
        "TOKEN = os.environ.get(\"GITHUB_TOKEN\")\n",
        "repo_url        = f\"https://{TOKEN}@github.com/{GITHUB_USERNAME}/{REPO_NAME}.git\"\n",
        "!git clone {repo_url}"
      ]
    },
    {
      "cell_type": "code",
      "execution_count": null,
      "metadata": {},
      "outputs": [],
      "source": [
        "# To pull latest changes (Must be in the repo dir, use pwd/ls to verify)\n",
        "!cd {REPO_NAME} && git pull"
      ]
    },
    {
      "cell_type": "markdown",
      "metadata": {},
      "source": [
        "### Step 2: Install Dependencies\n",
        "- Simply set the `Environment` setting in the notebook to `Always use latest environment`. No need to install anything."
      ]
    },
    {
      "cell_type": "markdown",
      "metadata": {},
      "source": [
        "### Step 3: Obtain Data\n",
        "\n",
        "#### ⚠️ Important: Kaggle Users  \n",
        "If you are using Kaggle, **do not manually download the data!** The dataset is large and may exceed your available disk space. Instead, follow these steps to add the dataset directly to your notebook:\n",
        "\n",
        "1. Open your **Kaggle Notebook**.  \n",
        "2. Navigate to **Notebook → Input**.  \n",
        "3. Click **Add Input**.  \n",
        "4. In the search bar, paste the following URL:  \n",
        "   👉 [https://www.kaggle.com/datasets/cmu11785/s25-hw4-data](https://www.kaggle.com/datasets/cmu11785/s25-hw4-data)  \n",
        "5. Click the **➕ (plus sign)** to add the dataset to your notebook.  \n",
        "\n",
        "#### 📌 Note:  \n",
        "This process will automatically download and unzip data for both `HW4P1` and `HW4P2`.  \n"
      ]
    },
    {
      "cell_type": "markdown",
      "metadata": {},
      "source": [
        "### Step 4: Move to Handout Directory\n",
        "You must be within the handout directory for the library imports to work!\n",
        "\n",
        "- `NOTE`: You may have to repeat running this command anytime you restart your runtime.\n",
        "- `NOTE`: You can do a `pwd` to check if you are in the right directory.\n",
        "- `NOTE`: The way it is setup currently, Your data directory should be one level up from your project directory. Keep this in mind when you are setting your `root` in the config file.\n",
        "\n",
        "If everything was done correctly, You should see atleast the following files in your current working directory after running `!ls`:\n",
        "```\n",
        ".\n",
        "├── README.md\n",
        "├── requirements.txt\n",
        "├── hw4lib/\n",
        "├── mytorch/\n",
        "├── tests/\n",
        "└── hw4_data_subset/\n",
        "\n",
        "```"
      ]
    },
    {
      "cell_type": "code",
      "execution_count": null,
      "metadata": {},
      "outputs": [],
      "source": [
        "import os\n",
        "os.chdir('IDL-HW4')\n",
        "!ls"
      ]
    },
    {
      "cell_type": "markdown",
      "metadata": {
        "id": "qQG51p6e7Q6x"
      },
      "source": [
        "## PSC"
      ]
    },
    {
      "cell_type": "markdown",
      "metadata": {},
      "source": [
        "### Step 1: Get your handout\n",
        "- See writeup for recommended approaches.\n",
        "- If you use Remote - SSH to connect to Bridges2, you can upload the handout to your project directory and work from there.\n"
      ]
    },
    {
      "cell_type": "code",
      "execution_count": null,
      "metadata": {},
      "outputs": [],
      "source": [
        "# Example: My preferred approach\n",
        "import os\n",
        "# Settings -> Developer Settings -> Personal Access Tokens -> Token (classic)\n",
        "os.environ['GITHUB_TOKEN'] = \"your_token_here\"\n",
        "\n",
        "GITHUB_USERNAME = \"your_username_here\"\n",
        "REPO_NAME       = \"your_repo_name_here\"\n",
        "TOKEN = os.environ.get(\"GITHUB_TOKEN\")\n",
        "repo_url        = f\"https://{TOKEN}@github.com/{GITHUB_USERNAME}/{REPO_NAME}.git\"\n",
        "!git clone {repo_url}"
      ]
    },
    {
      "cell_type": "code",
      "execution_count": null,
      "metadata": {},
      "outputs": [],
      "source": [
        "# To pull latest changes (Must be in the repo dir, use pwd/ls to verify)\n",
        "!cd {REPO_NAME} && git pull"
      ]
    },
    {
      "cell_type": "markdown",
      "metadata": {
        "id": "KM4OZo_G7Q6x"
      },
      "source": [
        "### Step 2: Setting Up Your Environment on Bridges2\n",
        "\n",
        "For this homework, we are providing a shared Conda environment for the entire class. Follow these steps to set up the environment and start a Jupyter notebook on Bridges2:"
      ]
    },
    {
      "cell_type": "markdown",
      "metadata": {},
      "source": [
        "#### 1. SSH into Bridges2\n",
        "```bash\n",
        "ssh username@bridges2.psc.edu\n",
        "```"
      ]
    },
    {
      "cell_type": "markdown",
      "metadata": {},
      "source": [
        "#### 2. Navigate to your Project Directory\n",
        "```bash\n",
        "cd $PROJECT\n",
        "```"
      ]
    },
    {
      "cell_type": "markdown",
      "metadata": {},
      "source": [
        "#### 3. Load the Anaconda Module\n",
        "```bash\n",
        "module load anaconda3\n",
        "```"
      ]
    },
    {
      "cell_type": "markdown",
      "metadata": {},
      "source": [
        "#### 4. Activate the provided HW4 Environment\n",
        "```bash\n",
        "conda deactivate # First, deactivate any existing Conda environment\n",
        "conda activate /jet/home/psamal/hw_envs/idl_hw4\n",
        "```"
      ]
    },
    {
      "cell_type": "markdown",
      "metadata": {},
      "source": [
        "#### 5. Request a Compute Node\n",
        "```bash\n",
        "interact -p GPU-shared --gres=gpu:v100-32:1 -t 8:00:00\n",
        "```"
      ]
    },
    {
      "cell_type": "markdown",
      "metadata": {},
      "source": [
        "#### 6. Re-activate Environment\n",
        "If your Conda environment was deactivated due to node allocation:\n",
        "```bash\n",
        "conda deactivate # First, deactivate any existing Conda environment\n",
        "conda activate /jet/home/psamal/hw_envs/idl_hw4\n",
        "```"
      ]
    },
    {
      "cell_type": "markdown",
      "metadata": {},
      "source": [
        "#### 7. Start Jupyter Notebook\n",
        "Launch Jupyter Notebook:\n",
        "```bash\n",
        "jupyter notebook --no-browser --ip=0.0.0.0\n",
        "```"
      ]
    },
    {
      "cell_type": "markdown",
      "metadata": {},
      "source": [
        "\n",
        "#### 8. Connect to Jupyter Server\n",
        "\n",
        "You can now use your prefered way of connecting to the Jupyter Server. Your options should be covered in the docs linked in post 558 @ piazza.\n",
        "\n",
        "The following is my preferred way of connecting to the Jupyter Server:\n",
        "\n",
        "##### 8.1 Connect in VSCode\n",
        "I prefer uploading the notebook to PSC Bridges2 storage ($PROJECT directory) and then connecting to the Jupyter Server from there.\n",
        "1. Use Remote - SSH to connect to Bridges2 and navigate to your project directory.\n",
        "2. Upload the notebook to the project directory.\n",
        "3. Open the notebook in VSCode.\n",
        "4. Go to **Kernel** → **Select Another Kernel** → **Existing Jupyter Server**\n",
        "5. Enter the URL of the Jupyter Server:```http://{hostname}:{port}/tree?token={token}```\n",
        "   - eg: `http://v011.ib.bridges2.psc.edu:8888/tree?token=e4b302434e68990f28bc2b4ae8d216eb87eecb7090526249` \n",
        "\n",
        "> **Note**: Replace `{hostname}`, `{port}` and `{token}` with your actual values from the Jupyter output."
      ]
    },
    {
      "cell_type": "markdown",
      "metadata": {},
      "source": [
        "### Step 3: Get Data\n",
        "- `NOTE`: This will download and unzip data for both `HW4P1` and `HW4P2`\n",
        "- `NOTE`: We are using `$LOCAL`: the scratch storage on local disk on the node running a job to store out data. \n",
        "  - Disk accesses are much faster than what you would get from `$PROJECT` storage\n",
        "  - `IT IS NOT PERSISTENT`\n",
        "- `NOTE`: Make sure you have completed the previous steps before running this cell.\n",
        "- Read more about it PSC File Spaces [here](https://www.psc.edu/resources/bridges-2/user-guide#file-spaces)."
      ]
    },
    {
      "cell_type": "code",
      "execution_count": null,
      "metadata": {},
      "outputs": [],
      "source": [
        "!curl -L -o $LOCAL/s25-hw4-data.zip https://www.kaggle.com/api/v1/datasets/download/cmu11785/s25-hw4-data\n",
        "!unzip -q -o $LOCAL/s25-hw4-data.zip -d $LOCAL/hw4_data\n",
        "!rm -rf $LOCAL/s25-hw4-data.zip\\\n",
        "!du -h --max-depth=2 $LOCAL/hw4_data"
      ]
    },
    {
      "cell_type": "markdown",
      "metadata": {},
      "source": [
        "### Step 4: Move to Handout Directory\n",
        "Depending on the way you are running your notebook, you may or may not need to run this cell. As long as you are within the handout directory for the library imports to work!\n",
        "\n",
        "- `NOTE`: You may have to repeat running this command anytime you restart your runtime.\n",
        "- `NOTE`: You can do a `pwd` to check if you are in the right directory.\n",
        "- `NOTE`: The way it is setup currently, Your data directory should be one level up from your project directory. Keep this in mind when you are setting your `root` in the config file.\n",
        "\n",
        "If everything was done correctly, You should see atleast the following files in your current working directory after running `!ls`:\n",
        "```\n",
        ".\n",
        "├── README.md\n",
        "├── requirements.txt\n",
        "├── hw4lib/\n",
        "├── mytorch/\n",
        "├── tests/\n",
        "└── hw4_data_subset/\n",
        "\n",
        "```"
      ]
    },
    {
      "cell_type": "code",
      "execution_count": null,
      "metadata": {},
      "outputs": [],
      "source": [
        "# Move to the handout directory if you are not there already\n",
        "import os\n",
        "os.chdir('IDL-HW4')\n",
        "!ls"
      ]
    },
    {
      "cell_type": "markdown",
      "metadata": {
        "id": "GhPm0t5d7Q6z"
      },
      "source": [
        "# Imports\n",
        "\n",
        "- If your setup was done correctly, you should be able to run the following cell without any issues."
      ]
    },
    {
      "cell_type": "code",
      "execution_count": 1,
      "metadata": {
        "id": "YAJF1-E87Q6z"
      },
      "outputs": [
        {
          "name": "stdout",
          "output_type": "stream",
          "text": [
            "Using device: cpu\n"
          ]
        }
      ],
      "source": [
        "from hw4lib.data import (\n",
        "    H4Tokenizer,\n",
        "    LMDataset,\n",
        "    verify_dataloader\n",
        ")\n",
        "from hw4lib.model import (\n",
        "    CausalMask,\n",
        "    PadMask,\n",
        "    PositionalEncoding,\n",
        "    DecoderOnlyTransformer\n",
        ")\n",
        "from hw4lib.utils import (\n",
        "    create_optimizer,\n",
        "    create_scheduler,\n",
        "    plot_lr_schedule\n",
        ")\n",
        "from hw4lib.trainers import (\n",
        "    LMTrainer,\n",
        ")\n",
        "from torch.utils.data import DataLoader\n",
        "import matplotlib.pyplot as plt\n",
        "import yaml\n",
        "import gc\n",
        "import torch\n",
        "from torchinfo import summary\n",
        "import os\n",
        "import json\n",
        "import tarfile\n",
        "import shutil\n",
        "import wandb\n",
        "import yaml\n",
        "device = \"cuda\" if torch.cuda.is_available() else \"cpu\"\n",
        "print(f\"Using device: {device}\")"
      ]
    },
    {
      "cell_type": "markdown",
      "metadata": {
        "id": "1Q4Ccp-M7Q60"
      },
      "source": [
        "# Implementations\n",
        "\n",
        "- `NOTE`: All of these implementations have detailed specification, implementation details, and hints in their respective source files. Make sure to read all of them in their entirety to understand the implementation details!"
      ]
    },
    {
      "cell_type": "markdown",
      "metadata": {
        "id": "4vqefJri7Q60"
      },
      "source": [
        "## MyTorch Implementations\n",
        "- Modify your `Linear` implementation from HW1P1 to support arbitrary number of dimensions in `mytorch/nn/linear.py`.\n",
        "- Modify your `Softmax` implementation from HW1P1 to support arbitrary number of dimensions in `mytorch/nn/activation.py`.\n",
        "- Implement the `ScaledDotProductAttention` class in `mytorch/nn/scaled_dot_product_attention.py`.\n",
        "- Implement the `MultiHeadAttention` class in `mytorch/nn/multi_head_attention.py`.\n",
        "- Run the cell below to check your implementations.\n"
      ]
    },
    {
      "cell_type": "code",
      "execution_count": 2,
      "metadata": {
        "id": "2hxzUzzW7Q60"
      },
      "outputs": [
        {
          "name": "stdout",
          "output_type": "stream",
          "text": [
            "\n",
            "\u001b[95m================================================================================\n",
            "Running tests for category: Linear\n",
            "--------------------------------------------------------------------------------\u001b[0m\n",
            "\n",
            "\u001b[94m[01/01]    Running:  Linear Tests\u001b[0m\n",
            "Testing Linear Layer ...\n",
            "Test Passed: Linear Forward\n",
            "Test Passed: Linear Backward\n",
            "\u001b[92m[01/01]    PASSED:   Linear Tests\u001b[0m\n",
            "\n",
            "\n",
            "\u001b[95m================================================================================\n",
            "Running tests for category: Softmax\n",
            "--------------------------------------------------------------------------------\u001b[0m\n",
            "\n",
            "\u001b[94m[01/01]    Running:  Softmax Tests\u001b[0m\n",
            "Testing Softmax ...\n",
            "Test Passed: Softmax Forward\n",
            "Test Passed: Softmax Backward\n",
            "\u001b[92m[01/01]    PASSED:   Softmax Tests\u001b[0m\n",
            "\n",
            "\n",
            "\u001b[95m================================================================================\n",
            "Running tests for category: ScaledDotProductAttention\n",
            "--------------------------------------------------------------------------------\u001b[0m\n",
            "\n",
            "\u001b[94m[01/01]    Running:  ScaledDotProductAttention Tests\u001b[0m\n",
            "Testing Scaled Dot Product Attention ...\n",
            "Test Passed: Scaled Dot Product Attention Forward\n",
            "Test Passed: Scaled Dot Product Attention Backward\n",
            "\u001b[92m[01/01]    PASSED:   ScaledDotProductAttention Tests\u001b[0m\n",
            "\n",
            "\n",
            "\u001b[95m================================================================================\n",
            "Running tests for category: MultiHeadAttention\n",
            "--------------------------------------------------------------------------------\u001b[0m\n",
            "\n",
            "\u001b[94m[01/01]    Running:  MultiHeadAttention Tests\u001b[0m\n",
            "Testing Multi Head Attention ...\n",
            "Test Passed: Multi Head Attention Forward\n",
            "Test Passed: Multi Head Attention Backward\n",
            "\u001b[92m[01/01]    PASSED:   MultiHeadAttention Tests\u001b[0m\n",
            "\n",
            "\n",
            "\u001b[95m================================================================================\n",
            "                                  Test Summary                                  \n",
            "================================================================================\u001b[0m\n",
            "\u001b[93mCategory:    Linear                        \n",
            "Results:     1/1 tests passed (100.0%)\u001b[0m\n",
            "\u001b[93mCategory:    Softmax                       \n",
            "Results:     1/1 tests passed (100.0%)\u001b[0m\n",
            "\u001b[93mCategory:    ScaledDotProductAttention     \n",
            "Results:     1/1 tests passed (100.0%)\u001b[0m\n",
            "\u001b[93mCategory:    MultiHeadAttention            \n",
            "Results:     1/1 tests passed (100.0%)\u001b[0m\n"
          ]
        }
      ],
      "source": [
        "!python -m tests.test_mytorch"
      ]
    },
    {
      "cell_type": "markdown",
      "metadata": {
        "id": "_8hb5VAN7Q60"
      },
      "source": [
        "## Dataset Implementation\n",
        "- Familiarize yourself with the `tokenize`, `encode`, and `decode` methods of the `H4Tokenizer` class in `hw4lib/data/tokenizer.py`. You will need to make use of these methods in both `HW4P1` and `HW4P2` both in the dataset implementations and during decoding.\n",
        "- Implement the `LMDataset` class in `hw4lib/data/lm_dataset.py`.\n",
        "    - You will have to implement parts of `__init__` and completely implement the `__len__`, `__getitem__` and `collate_fn` methods.\n",
        "- Run the cell below to check your implementation.\n"
      ]
    },
    {
      "cell_type": "code",
      "execution_count": 3,
      "metadata": {
        "id": "D1oCYvlJ7Q60"
      },
      "outputs": [
        {
          "name": "stdout",
          "output_type": "stream",
          "text": [
            "Loading transcripts for train partition...\n",
            "100%|███████████████████████████████████████| 267/267 [00:00<00:00, 6707.03it/s]\n",
            "\n",
            "\u001b[95m================================================================================\n",
            "Running tests for category: LMDataset\n",
            "--------------------------------------------------------------------------------\u001b[0m\n",
            "\n",
            "\u001b[94m[01/01]    Running:  Test the LMDataset class\u001b[0m\n",
            "Testing __init__ method ...\n",
            "Test Passed: Text files are sorted.\n",
            "Test Passed: Shifted and golden transcripts are aligned.\n",
            "Test Passed: All transcripts are decoded correctly after removing SOS and EOS tokens.\n",
            "Testing __getitem__ method ...\n",
            "Test Passed: SOS and EOS tokens are correctly placed for samples.\n",
            "Test Passed: All transcripts are decoded correctly after removing SOS and EOS tokens.\n",
            "Testing collate_fn method ...\n",
            "Test Passed: Transcript batch has correct dimensions (2D tensor).\n",
            "Test Passed: Transcript lengths are consistent with the batch size.\n",
            "Test Passed: All sequences are padded to the same length.\n",
            "Test Passed: Padding values are correct.\n",
            "Test Passed: Batch transcripts are of correct data type.\n",
            "\u001b[92m[01/01]    PASSED:   Test the LMDataset class\u001b[0m\n",
            "\n",
            "\n",
            "\u001b[95m================================================================================\n",
            "                                  Test Summary                                  \n",
            "================================================================================\u001b[0m\n",
            "\u001b[93mCategory:    LMDataset                     \n",
            "Results:     1/1 tests passed (100.0%)\u001b[0m\n"
          ]
        }
      ],
      "source": [
        "!python -m tests.test_dataset_lm"
      ]
    },
    {
      "cell_type": "markdown",
      "metadata": {
        "id": "p6R08H787Q60"
      },
      "source": [
        "## Model Implementations\n",
        "#### Overview:\n",
        "- Implement the `CausalMask` and `PadMask` functions in `hw4lib/modules/masks.py` to handle masking.\n",
        "- Implement the `PositionalEncoding` class in `hw4lib/model/positional_encoding.py` to handle positional encoding.\n",
        "- Implement the Transformer Sublayers: `SelfAttentionLayer` and `FeedForwardLayer` classes in `hw4lib/model/sublayers.py`.\n",
        "- Implement the Transformer Layer: `SelfAttentionDecoderLayer` class in `hw4lib/model/decoder_layers.py`.\n",
        "- Implement the `DecoderOnlyTransformer` class in `hw4lib/model/transformers.py`.\n",
        "- Run the cells below to check your implementation.\n",
        "- `NOTE`: Besides the `DecoderOnlyTransformer` (P1 mandatory, P2 optional), you will use all of the above implementations in both `HW4P1` and `HW4P2`!"
      ]
    },
    {
      "cell_type": "markdown",
      "metadata": {
        "id": "b6m-85zB7Q61"
      },
      "source": [
        "### Masks\n",
        "- Implement the `PadMask` and `CausalMask` functions in `hw4lib/modules/masks.py`.\n",
        "- Run the cell below to check your implementation.\n",
        "- You will need to make use of these masks in both `HW4P1` and `HW4P2`."
      ]
    },
    {
      "cell_type": "markdown",
      "metadata": {
        "id": "Di88pr8J7Q61"
      },
      "source": [
        "#### Causal Mask"
      ]
    },
    {
      "cell_type": "code",
      "execution_count": 4,
      "metadata": {
        "id": "mAHwBO7m7Q61"
      },
      "outputs": [
        {
          "name": "stdout",
          "output_type": "stream",
          "text": [
            "\n",
            "\u001b[95m================================================================================\n",
            "Running tests for category: CausalMask\n",
            "--------------------------------------------------------------------------------\u001b[0m\n",
            "\n",
            "\u001b[94m[01/01]    Running:  Test the causal mask generation\u001b[0m\n",
            "Testing Causal Mask ...\n",
            "Test Passed: Causal mask generation is correct.\n",
            "\u001b[92m[01/01]    PASSED:   Test the causal mask generation\u001b[0m\n",
            "\n",
            "\n",
            "\u001b[95m================================================================================\n",
            "                                  Test Summary                                  \n",
            "================================================================================\u001b[0m\n",
            "\u001b[93mCategory:    CausalMask                    \n",
            "Results:     1/1 tests passed (100.0%)\u001b[0m\n"
          ]
        }
      ],
      "source": [
        "!python -m tests.test_mask_causal"
      ]
    },
    {
      "cell_type": "markdown",
      "metadata": {
        "id": "gCPEtI8X7Q61"
      },
      "source": [
        "#### Padding Mask"
      ]
    },
    {
      "cell_type": "code",
      "execution_count": 5,
      "metadata": {
        "id": "UiZusS-H7Q62"
      },
      "outputs": [
        {
          "name": "stdout",
          "output_type": "stream",
          "text": [
            "\n",
            "\u001b[95m================================================================================\n",
            "Running tests for category: PaddingMask\n",
            "--------------------------------------------------------------------------------\u001b[0m\n",
            "\n",
            "\u001b[94m[01/01]    Running:  Test the padding mask generation\u001b[0m\n",
            "Testing Padding Mask ...\n",
            "Test Passed: Padding mask generation is correct.\n",
            "\u001b[92m[01/01]    PASSED:   Test the padding mask generation\u001b[0m\n",
            "\n",
            "\n",
            "\u001b[95m================================================================================\n",
            "                                  Test Summary                                  \n",
            "================================================================================\u001b[0m\n",
            "\u001b[93mCategory:    PaddingMask                   \n",
            "Results:     1/1 tests passed (100.0%)\u001b[0m\n"
          ]
        }
      ],
      "source": [
        "!python -m tests.test_mask_padding"
      ]
    },
    {
      "cell_type": "markdown",
      "metadata": {
        "id": "W1ZeV5XM7Q62"
      },
      "source": [
        "#### Optional: Visualize your Masks"
      ]
    },
    {
      "cell_type": "code",
      "execution_count": 6,
      "metadata": {
        "id": "9UqY1xD_7Q62"
      },
      "outputs": [
        {
          "data": {
            "image/png": "[encoded data removed]",
            "text/plain": [
              "<Figure size 1200x400 with 3 Axes>"
            ]
          },
          "metadata": {},
          "output_type": "display_data"
        }
      ],
      "source": [
        "# Dummy data\n",
        "_d_model   = 64\n",
        "_x         = torch.zeros(4, 20, _d_model)\n",
        "_x_len     = torch.tensor([5, 15, 10, 20])\n",
        "_x_causal  = CausalMask(_x)\n",
        "_x_padding = PadMask(_x, _x_len)\n",
        "\n",
        "# Create figure with two subplots side by side\n",
        "fig, mask_axs = plt.subplots(1, 2, figsize=(12, 4))\n",
        "\n",
        "# Plot masks\n",
        "masks_and_titles = [\n",
        "    (_x_padding, \"Padding Mask\"),\n",
        "    (_x_causal, \"Causal Mask\")\n",
        "]\n",
        "\n",
        "# Plot each mask\n",
        "images = []\n",
        "for i, (mask, title) in enumerate(masks_and_titles):\n",
        "    im = mask_axs[i].imshow(mask, cmap=\"gray\", aspect='auto')\n",
        "    mask_axs[i].set_title(title, fontsize=8)\n",
        "    images.append(im)\n",
        "\n",
        "# Add colorbar at the bottom\n",
        "fig.subplots_adjust(bottom=0.2)  # Make space for colorbar\n",
        "cbar_ax = fig.add_axes([0.15, 0.1, 0.7, 0.02])  # [left, bottom, width, height]\n",
        "cbar = plt.colorbar(images[0], cax=cbar_ax, orientation='horizontal')\n",
        "cbar.ax.set_xlabel('Mask Values', labelpad=5, fontsize=8)\n",
        "cbar.set_ticks([0, 1])\n",
        "cbar.set_ticklabels(['Attend (0)', 'Ignore/Mask (1)'])\n",
        "cbar.ax.tick_params(labelsize=6)\n",
        "\n",
        "plt.show()"
      ]
    },
    {
      "cell_type": "markdown",
      "metadata": {
        "id": "dlkN0B1H7Q63"
      },
      "source": [
        "### Positional Encoding\n",
        "- Implement the `PositionalEncoding` class in `hw4lib/model/positional_encoding.py`.\n",
        "- Run the cell below to check your implementation.\n",
        "- You will need to make use of this positional encoding in both `HW4P1` and `HW4P2`."
      ]
    },
    {
      "cell_type": "code",
      "execution_count": 7,
      "metadata": {
        "id": "LTO-EMdY7Q63"
      },
      "outputs": [
        {
          "name": "stdout",
          "output_type": "stream",
          "text": [
            "\n",
            "\u001b[95m================================================================================\n",
            "Running tests for category: PositionalEncoding\n",
            "--------------------------------------------------------------------------------\u001b[0m\n",
            "\n",
            "\u001b[94m[01/01]    Running:  Test the positional encoding generation\u001b[0m\n",
            "Testing Positional Encoding Shape ...\n",
            "Test Passed: Positional Encoding Shape is Correct\n",
            "Testing Positional Encoding Values ...\n",
            "Test Passed: Positional Encoding Values are Correct\n",
            "Testing Positional Encoding Forward ...\n",
            "Test Passed: Positional Encoding Forward is Correct\n",
            "\u001b[92m[01/01]    PASSED:   Test the positional encoding generation\u001b[0m\n",
            "\n",
            "\n",
            "\u001b[95m================================================================================\n",
            "                                  Test Summary                                  \n",
            "================================================================================\u001b[0m\n",
            "\u001b[93mCategory:    PositionalEncoding            \n",
            "Results:     1/1 tests passed (100.0%)\u001b[0m\n"
          ]
        }
      ],
      "source": [
        "!python -m tests.test_positional_encoding"
      ]
    },
    {
      "cell_type": "markdown",
      "metadata": {
        "id": "ehZGbq5G7Q64"
      },
      "source": [
        "#### Optional: Visualize your Positional Encoding"
      ]
    },
    {
      "cell_type": "code",
      "execution_count": 8,
      "metadata": {
        "id": "5cgKYbz47Q64"
      },
      "outputs": [
        {
          "data": {
            "image/png": "[encoded data removed]",
            "text/plain": [
              "<Figure size 1200x400 with 3 Axes>"
            ]
          },
          "metadata": {},
          "output_type": "display_data"
        }
      ],
      "source": [
        "# Create sample positional encoding\n",
        "d_model = 64\n",
        "max_len = 100\n",
        "pos_encoding = PositionalEncoding(d_model=d_model, max_len=max_len)\n",
        "pe = pos_encoding.pe.squeeze(0).numpy()  # Remove batch dimension and convert to numpy\n",
        "\n",
        "# Create figure with two subplots side by side\n",
        "fig, (ax1, ax2) = plt.subplots(1, 2, figsize=(12, 4))\n",
        "\n",
        "# Plot 1: Positional encoding matrix\n",
        "im = ax1.imshow(pe, aspect='auto', cmap='RdBu',\n",
        "                extent=[0, d_model, max_len, 0])  # Flip y-axis to show position top-to-bottom\n",
        "plt.colorbar(im, ax=ax1, label='Encoding Value')\n",
        "ax1.set_xlabel('Dimension')\n",
        "ax1.set_ylabel('Position')\n",
        "ax1.set_title('Positional Encoding Matrix')\n",
        "ax1.grid(False)\n",
        "\n",
        "# Plot 2: Sinusoidal patterns\n",
        "dimensions = [0, 15, 31, 47, 63]  # Plot first few dimensions\n",
        "for dim in dimensions:\n",
        "    ax2.plot(pe[:, dim], label=f'dim {dim}')\n",
        "ax2.set_xlabel('Position')\n",
        "ax2.set_ylabel('Encoding Value')\n",
        "ax2.set_title('Sinusoidal Patterns for Different Dimensions')\n",
        "ax2.legend()\n",
        "ax2.grid(True)\n",
        "\n",
        "# Adjust layout to prevent overlap\n",
        "plt.tight_layout()\n",
        "plt.show()"
      ]
    },
    {
      "cell_type": "markdown",
      "metadata": {
        "id": "XSAUWGco7Q64"
      },
      "source": [
        "### Transformer Sublayers\n",
        "- Implement the Transformer Sublayers: `SelfAttentionLayer`, and `FeedForwardLayer` classes in `hw4lib/model/sublayers.py`.\n",
        "- Run the cell below to check your implementation.\n",
        "- You will need to make use of all of these sublayers in both `HW4P1` and `HW4P2`."
      ]
    },
    {
      "cell_type": "code",
      "execution_count": 9,
      "metadata": {
        "id": "4auGdGYy7Q64"
      },
      "outputs": [
        {
          "name": "stdout",
          "output_type": "stream",
          "text": [
            "\n",
            "\u001b[95m================================================================================\n",
            "Running tests for category: SelfAttentionLayer\n",
            "--------------------------------------------------------------------------------\u001b[0m\n",
            "\n",
            "\u001b[94m[01/01]    Running:  Test the self-attention sublayer\u001b[0m\n",
            "Testing initialization ...\n",
            "Test Passed: All layers exist and are instantiated correctly\n",
            "Testing forward shapes ...\n",
            "Test Passed: Forward pass returns the correct shapes\n",
            "Testing padding mask behaviour ...\n",
            "Testing padding mask behaviour ...\n",
            "Test Passed: Padding mask is applied correctly\n",
            "Testing self-attention mask behaviour ...\n",
            "Test Passed: Self-attention mask is applied correctly\n",
            "Testing self-attention residual ...\n",
            "Test Passed: Residual connection is applied correctly\n",
            "\u001b[92m[01/01]    PASSED:   Test the self-attention sublayer\u001b[0m\n",
            "\n",
            "\n",
            "\u001b[95m================================================================================\n",
            "                                  Test Summary                                  \n",
            "================================================================================\u001b[0m\n",
            "\u001b[93mCategory:    SelfAttentionLayer            \n",
            "Results:     1/1 tests passed (100.0%)\u001b[0m\n"
          ]
        }
      ],
      "source": [
        "!python -m tests.test_sublayer_selfattention"
      ]
    },
    {
      "cell_type": "code",
      "execution_count": 10,
      "metadata": {
        "id": "DIy1d8757Q64"
      },
      "outputs": [
        {
          "name": "stdout",
          "output_type": "stream",
          "text": [
            "\n",
            "\u001b[95m================================================================================\n",
            "Running tests for category: FeedForwardLayer\n",
            "--------------------------------------------------------------------------------\u001b[0m\n",
            "\n",
            "\u001b[94m[01/01]    Running:  Test the feedforward sublayer\u001b[0m\n",
            "Testing initialization ...\n",
            "Test Passed: All layers exist and match reference implementation\n",
            "Testing forward shapes ...\n",
            "Test Passed: Forward pass returns correct shapes for various input dimensions\n",
            "Testing feed-forward network behavior ...\n",
            "Test Passed: Feed-forward network transforms input appropriately\n",
            "Testing residual connection ...\n",
            "Test Passed: Residual connection is working correctly\n",
            "Testing layer normalization ...\n",
            "Test Passed: Layer normalization is being applied correctly\n",
            "Testing forward pass order ...\n",
            "Test Passed: Forward pass operations are in correct order\n",
            "\u001b[92m[01/01]    PASSED:   Test the feedforward sublayer\u001b[0m\n",
            "\n",
            "\n",
            "\u001b[95m================================================================================\n",
            "                                  Test Summary                                  \n",
            "================================================================================\u001b[0m\n",
            "\u001b[93mCategory:    FeedForwardLayer              \n",
            "Results:     1/1 tests passed (100.0%)\u001b[0m\n"
          ]
        }
      ],
      "source": [
        "!python -m tests.test_sublayer_feedforward"
      ]
    },
    {
      "cell_type": "markdown",
      "metadata": {
        "id": "hfGn7MqL7Q65"
      },
      "source": [
        "### Transformer Self-Attention Decoder Layer\n",
        "- Implement the Transformer Layer: `SelfAttentionDecoderLayer` class in `hw4lib/model/decoder_layers.py`.\n",
        "- Run the cell below to check your implementation.\n",
        "- You will need to make use of this sublayer in `HW4P2`."
      ]
    },
    {
      "cell_type": "code",
      "execution_count": 11,
      "metadata": {
        "id": "S8p-8Uff7Q65"
      },
      "outputs": [
        {
          "name": "stdout",
          "output_type": "stream",
          "text": [
            "\n",
            "\u001b[95m================================================================================\n",
            "Running tests for category: SelfAttentionDecoderLayer\n",
            "--------------------------------------------------------------------------------\u001b[0m\n",
            "\n",
            "\u001b[94m[01/01]    Running:  Test the self-attention decoder layer\u001b[0m\n",
            "Testing initialization ...\n",
            "Test Passed: All sublayers exist and are initialized correctly\n",
            "Testing forward shapes ...\n",
            "Test Passed: Forward shapes are as expected\n",
            "Testing sublayer interaction ...\n",
            "Test Passed: Sublayers interact correctly\n",
            "\u001b[92m[01/01]    PASSED:   Test the self-attention decoder layer\u001b[0m\n",
            "\n",
            "\n",
            "\u001b[95m================================================================================\n",
            "                                  Test Summary                                  \n",
            "================================================================================\u001b[0m\n",
            "\u001b[93mCategory:    SelfAttentionDecoderLayer     \n",
            "Results:     1/1 tests passed (100.0%)\u001b[0m\n"
          ]
        }
      ],
      "source": [
        "!python -m tests.test_decoderlayer_selfattention"
      ]
    },
    {
      "cell_type": "markdown",
      "metadata": {
        "id": "e0NW07hn7Q65"
      },
      "source": [
        "### Decoder-Only Transformer\n",
        "\n",
        "- Implement the `DecoderOnlyTransformer` class in `hw4lib/model/transformers.py`.\n",
        "- Run the cell below to check your implementation.\n",
        "- You will need to make use of in `HW4P1` and optionally `HW4P2`."
      ]
    },
    {
      "cell_type": "code",
      "execution_count": 12,
      "metadata": {
        "id": "6Z1SU9b97Q65"
      },
      "outputs": [
        {
          "name": "stdout",
          "output_type": "stream",
          "text": [
            "\n",
            "\u001b[95m================================================================================\n",
            "Running tests for category: DecoderOnlyTransformer\n",
            "--------------------------------------------------------------------------------\u001b[0m\n",
            "\n",
            "\u001b[94m[01/01]    Running:  Test the decoder only transformer\u001b[0m\n",
            "Testing initialization...\n",
            "Test Passed: All components initialized correctly\n",
            "Testing forward pass...\n",
            "Test Passed: Forward pass works correctly\n",
            "Testing forward propagation order...\n",
            "Test Passed: Forward propagation order is correct\n",
            "\u001b[92m[01/01]    PASSED:   Test the decoder only transformer\u001b[0m\n",
            "\n",
            "\n",
            "\u001b[95m================================================================================\n",
            "                                  Test Summary                                  \n",
            "================================================================================\u001b[0m\n",
            "\u001b[93mCategory:    DecoderOnlyTransformer        \n",
            "Results:     1/1 tests passed (100.0%)\u001b[0m\n"
          ]
        }
      ],
      "source": [
        "!python -m tests.test_transformer_decoder_only"
      ]
    },
    {
      "cell_type": "markdown",
      "metadata": {
        "id": "zSGdoo9J7Q65"
      },
      "source": [
        "## Decoding Implementation\n",
        "- Implement the `generate_greedy` method of the `SequenceGenerator` class in `hw4lib/decoding/sequence_generator.py`.\n",
        "- Run the cell below to check your implementation."
      ]
    },
    {
      "cell_type": "code",
      "execution_count": 13,
      "metadata": {
        "id": "Ks5wXPYS7Q65"
      },
      "outputs": [
        {
          "name": "stdout",
          "output_type": "stream",
          "text": [
            "\n",
            "\u001b[95m================================================================================\n",
            "Running tests for category: Decoding\n",
            "--------------------------------------------------------------------------------\u001b[0m\n",
            "\n",
            "\u001b[94m[01/01]    Running:  Test greedy decoding\u001b[0m\n",
            "Testing Single Batch Greedy Search ...\n",
            "Generated: HELLO WORLD  | Expected: HELLO WORLD \n",
            "Testing Multi Batch Greedy Search ...\n",
            "Batch 0  : Generated: HELLO WORLD  | Expected: HELLO WORLD \n",
            "Batch 1  : Generated: GOOD BYE     | Expected: GOOD BYE    \n",
            "\u001b[92m[01/01]    PASSED:   Test greedy decoding\u001b[0m\n",
            "\n",
            "\n",
            "\u001b[95m================================================================================\n",
            "                                  Test Summary                                  \n",
            "================================================================================\u001b[0m\n",
            "\u001b[93mCategory:    Decoding                      \n",
            "Results:     1/1 tests passed (100.0%)\u001b[0m\n"
          ]
        }
      ],
      "source": [
        "!python -m tests.test_decoding --mode greedy"
      ]
    },
    {
      "cell_type": "markdown",
      "metadata": {},
      "source": [
        "## Trainer Implementation\n",
        "You will have to do some minor in-filling for the `LMTrainer` class in `hw4lib/trainers/lm_trainer.py` before you can use it.\n",
        "- Fill in the `TODO`s in the `__init__`.\n",
        "- Fill in the `TODO`s in the `_train_epoch`.\n",
        "- Fill in the `TODO`s in the `_validate_epoch`.\n",
        "- Fill in the `TODO`s in the `generate` method.\n",
        "- Fill in the `TODO`s in the `train` method.\n",
        "\n",
        "`WARNING`: There are no test's for this. Implement carefully!"
      ]
    },
    {
      "cell_type": "markdown",
      "metadata": {
        "id": "X2-j-cKa7Q65"
      },
      "source": [
        "# Experiments\n",
        "From this point onwards you may want to switch to a `GPU` runtime. \n",
        "- `OBJECTIVE`: You must achieve a per-character perplexity ≤ 3.5 in order to get points for Task 2."
      ]
    },
    {
      "cell_type": "markdown",
      "metadata": {
        "id": "nV2GWmKd7Q65"
      },
      "source": [
        "## Config\n",
        "- You can use the `config.yaml` file to set your config for your ablation study.\n",
        "\n",
        "---\n",
        "### Notes:\n",
        "\n",
        "- Set `tokenization: token_type:` to specify your desired tokenization strategy\n",
        "- You will need to set the root path to your `hw4p1_data` folder in `data: root:`. This will depend on your setup. For eg. if you are following out setup instruction:\n",
        "  - `PSC`: `\"/local/hw4_data/hw4p1_data\"`\n",
        "  - `Colab:`: `\"/content/hw4_data/hw4p1_data\"`\n",
        "  - `Kaggle:`: `\"/kaggle/input/s25-hw4-data/hw4p1_data\"`\n",
        "- There's extra configurations in the `optimizer` section which will only be relevant if you decide to use the `create_optimizer` function we've provided in `hw4lib/utils/create_optimizer.py`.\n",
        "- `BE CAREFUL` while setting numeric values. Eg. `1e-4` will get serialized to a `str` while `1.0e-4` gets serialized to float. \n"
      ]
    },
    {
      "cell_type": "code",
      "execution_count": 21,
      "metadata": {
        "id": "XLChmBx67Q65"
      },
      "outputs": [
        {
          "name": "stdout",
          "output_type": "stream",
          "text": [
            "Overwriting config.yaml\n"
          ]
        }
      ],
      "source": [
        "%%writefile config.yaml\n",
        "Name                      : \"Kavi Sarna\"\n",
        "\n",
        "###### Tokenization ------------------------------------------------------------\n",
        "tokenization:\n",
        "  token_type                : \"10k\"       # [char, 1k, 5k, 10k]\n",
        "  token_map :\n",
        "      'char': 'hw4lib/data/tokenizer_jsons/tokenizer_char.json'\n",
        "      '1k'  : 'hw4lib/data/tokenizer_jsons/tokenizer_1000.json'\n",
        "      '5k'  : 'hw4lib/data/tokenizer_jsons/tokenizer_5000.json'\n",
        "      '10k' : 'hw4lib/data/tokenizer_jsons/tokenizer_10000.json'\n",
        "\n",
        "###### Dataset -----------------------------------------------------------------\n",
        "data:                    # Currently setup for Colab assuming out setup\n",
        "  root                 : \"hw4_data_subset_dhruv/hw4p1_data\"  # TODO: Set the root path of your data\n",
        "  train_partition      : \"train\"  # train\n",
        "  val_partition        : \"val\"    # val\n",
        "  test_partition       : \"test\"   # test\n",
        "  subset               : 1.0      # Load a subset of the data (for debugging, testing, etc\n",
        "  batch_size           : 256      #\n",
        "  NUM_WORKERS          : 2        # Set to 0 for CPU\n",
        "\n",
        "###### Network Specs -------------------------------------------------------------\n",
        "model: # Decoder-Only Language Model (HW4P1)\n",
        "  d_model                   : 256\n",
        "  d_ff                      : 1024\n",
        "  num_layers                : 2\n",
        "  num_heads                 : 2\n",
        "  dropout                   : 0.0\n",
        "  layer_drop_rate           : 0.0\n",
        "  weight_tying              : False\n",
        "\n",
        "###### Common Training Parameters ------------------------------------------------\n",
        "training:\n",
        "  use_wandb                   : True   # Toggle wandb logging\n",
        "  wandb_run_id                : \"none\" # \"none\" or \"run_id\"\n",
        "  resume                      : False  # Resume an existing run (run_id != 'none')\n",
        "  epochs                      : 80\n",
        "  gradient_accumulation_steps : 1\n",
        "  wandb_project               : \"HW4P1\" # wandb project to log to\n",
        "\n",
        "###### Loss ----------------------------------------------------------------------\n",
        "loss: # Just good ol' CrossEntropy\n",
        "  label_smoothing: 0.0\n",
        "\n",
        "###### Optimizer -----------------------------------------------------------------\n",
        "optimizer:\n",
        "  name: \"adam\" # Options: sgd, adam, adamw\n",
        "  lr: 5.0e-5   # Base learning rate\n",
        "\n",
        "  # Common parameters\n",
        "  weight_decay: 0.0001\n",
        "\n",
        "  # Parameter groups\n",
        "  param_groups:\n",
        "    - name: self_attn\n",
        "      patterns: []  # Will match all parameters containing keywords set their learning rate to 0.0001\n",
        "      lr: 0.0001    # LR for self_attn\n",
        "      layer_decay:\n",
        "        enabled: False\n",
        "        decay_rate: 0.8\n",
        "\n",
        "    - name: ffn\n",
        "      patterns: [] # Will match all parameters containing \"ffn\" and set their learning rate to 0.0001\n",
        "      lr: 0.0001   # LR for ffn\n",
        "      layer_decay:\n",
        "        enabled: False\n",
        "        decay_rate: 0.8\n",
        "\n",
        "  # Layer-wise learning rates\n",
        "  layer_decay:\n",
        "    enabled: False\n",
        "    decay_rate: 0.75\n",
        "\n",
        "  # SGD specific parameters\n",
        "  sgd:\n",
        "    momentum: 0.9\n",
        "    nesterov: True\n",
        "    dampening: 0\n",
        "\n",
        "  # Adam specific parameters\n",
        "  adam:\n",
        "    betas: [0.9, 0.999]\n",
        "    eps: 1.0e-8\n",
        "    amsgrad: False\n",
        "\n",
        "  # AdamW specific parameters\n",
        "  adamw:\n",
        "    betas: [0.9, 0.999]\n",
        "    eps: 1.0e-8\n",
        "    amsgrad: False\n",
        "\n",
        "###### Scheduler -----------------------------------------------------------------\n",
        "scheduler:\n",
        "  name: \"cosine\"  # Options: reduce_lr, cosine, cosine_warm\n",
        "\n",
        "  # ReduceLROnPlateau specific parameters\n",
        "  reduce_lr:\n",
        "    mode: \"min\"  # Options: min, max\n",
        "    factor: 0.1  # Factor to reduce learning rate by\n",
        "    patience: 10  # Number of epochs with no improvement after which LR will be reduced\n",
        "    threshold: 0.0001  # Threshold for measuring the new optimum\n",
        "    threshold_mode: \"rel\"  # Options: rel, abs\n",
        "    cooldown: 0  # Number of epochs to wait before resuming normal operation\n",
        "    min_lr: 0.0000001  # Minimum learning rate\n",
        "    eps: 1.0e-8  # Minimal decay applied to lr\n",
        "\n",
        "  # CosineAnnealingLR specific parameters\n",
        "  cosine:\n",
        "    T_max: 15  # Maximum number of iterations\n",
        "    eta_min: 1.0e-8  # Minimum learning rate\n",
        "    last_epoch: -1\n",
        "\n",
        "  # CosineAnnealingWarmRestarts specific parameters\n",
        "  cosine_warm:\n",
        "    T_0: 4  # Number of iterations for the first restart\n",
        "    T_mult: 4  # Factor increasing T_i after each restart\n",
        "    eta_min: 0.0000001  # Minimum learning rate\n",
        "    last_epoch: -1\n",
        "\n",
        "  # Warmup parameters (can be used with any scheduler)\n",
        "  warmup:\n",
        "    enabled: True\n",
        "    type: \"exponential\"  # Options: linear, exponential\n",
        "    epochs: 5\n",
        "    start_factor: 0.1\n",
        "    end_factor: 1.0"
      ]
    },
    {
      "cell_type": "code",
      "execution_count": 22,
      "metadata": {
        "id": "Fl_9Vv117Q66"
      },
      "outputs": [],
      "source": [
        "with open('config.yaml', 'r') as file:\n",
        "    config = yaml.safe_load(file)"
      ]
    },
    {
      "cell_type": "markdown",
      "metadata": {
        "id": "Bu56OILL7Q66"
      },
      "source": [
        "## Tokenizer"
      ]
    },
    {
      "cell_type": "code",
      "execution_count": 23,
      "metadata": {
        "id": "XBrysj6-7Q66"
      },
      "outputs": [
        {
          "name": "stdout",
          "output_type": "stream",
          "text": [
            "================================================================================\n",
            "                         Tokenizer Configuration (10k)                          \n",
            "--------------------------------------------------------------------------------\n",
            "Vocabulary size:     10000\n",
            "\n",
            "Special Tokens:\n",
            "PAD:              0\n",
            "UNK:              1\n",
            "MASK:             2\n",
            "SOS:              3\n",
            "EOS:              4\n",
            "BLANK:            5\n",
            "\n",
            "Validation Example:\n",
            "--------------------------------------------------------------------------------\n",
            "Input text:  [SOS]HI DEEP LEARNERS[EOS]\n",
            "Tokens:      ['[SOS]', 'H', 'I', 'ĠDEEP', 'ĠLEARN', 'ERS', '[EOS]']\n",
            "Token IDs:   [3, 14, 15, 1169, 2545, 214, 4]\n",
            "Decoded:     [SOS]HI DEEP LEARNERS[EOS]\n",
            "================================================================================\n"
          ]
        }
      ],
      "source": [
        "Tokenizer = H4Tokenizer(\n",
        "    token_map  = config['tokenization']['token_map'],\n",
        "    token_type = config['tokenization']['token_type']\n",
        ")"
      ]
    },
    {
      "cell_type": "markdown",
      "metadata": {
        "id": "N-vsGdfu7Q66"
      },
      "source": [
        "## Datasets"
      ]
    },
    {
      "cell_type": "code",
      "execution_count": 24,
      "metadata": {
        "id": "OCR3fGoL7Q66"
      },
      "outputs": [
        {
          "name": "stdout",
          "output_type": "stream",
          "text": [
            "Loading transcripts for train partition...\n"
          ]
        },
        {
          "name": "stderr",
          "output_type": "stream",
          "text": [
            "100%|██████████| 267/267 [00:00<00:00, 4376.97it/s]\n"
          ]
        },
        {
          "name": "stdout",
          "output_type": "stream",
          "text": [
            "Loading transcripts for val partition...\n"
          ]
        },
        {
          "name": "stderr",
          "output_type": "stream",
          "text": [
            "100%|██████████| 7/7 [00:00<00:00, 4720.28it/s]\n"
          ]
        },
        {
          "name": "stdout",
          "output_type": "stream",
          "text": [
            "Loading transcripts for test partition...\n"
          ]
        },
        {
          "name": "stderr",
          "output_type": "stream",
          "text": [
            "100%|██████████| 7/7 [00:00<00:00, 3273.88it/s]\n"
          ]
        },
        {
          "data": {
            "text/plain": [
              "786677"
            ]
          },
          "execution_count": 24,
          "metadata": {},
          "output_type": "execute_result"
        }
      ],
      "source": [
        "train_dataset  = LMDataset(\n",
        "    partition  = config['data']['train_partition'],\n",
        "    config     = config['data'],\n",
        "    tokenizer  = Tokenizer\n",
        ")\n",
        "\n",
        "val_dataset    = LMDataset(\n",
        "    partition  = config['data']['val_partition'],\n",
        "    config     = config['data'],\n",
        "    tokenizer  = Tokenizer\n",
        ")\n",
        "\n",
        "test_dataset   = LMDataset(\n",
        "    partition  = config['data']['test_partition'],\n",
        "    config     = config['data'],\n",
        "    tokenizer  = Tokenizer\n",
        ")\n",
        "\n",
        "gc.collect()"
      ]
    },
    {
      "cell_type": "markdown",
      "metadata": {
        "id": "Qf8Y_COP7Q66"
      },
      "source": [
        "## Dataloaders"
      ]
    },
    {
      "cell_type": "code",
      "execution_count": 25,
      "metadata": {
        "id": "0GajQ0LX7Q66"
      },
      "outputs": [],
      "source": [
        "train_loader    = DataLoader(\n",
        "    dataset     = train_dataset,\n",
        "    batch_size  = config['data']['batch_size'],\n",
        "    shuffle     = True,\n",
        "    num_workers = config['data']['NUM_WORKERS'] if device == 'cuda' else 0,\n",
        "    pin_memory  = True,\n",
        "    collate_fn  = train_dataset.collate_fn\n",
        ")\n",
        "\n",
        "val_loader      = DataLoader(\n",
        "    dataset     = val_dataset,\n",
        "    batch_size  = config['data']['batch_size'],\n",
        "    shuffle     = False,\n",
        "    num_workers = config['data']['NUM_WORKERS'] if device == 'cuda' else 0,\n",
        "    pin_memory  = True,\n",
        "    collate_fn  = val_dataset.collate_fn\n",
        ")\n",
        "\n",
        "test_loader     = DataLoader(\n",
        "    dataset     = test_dataset,\n",
        "    batch_size  = config['data']['batch_size'],\n",
        "    shuffle     = False,\n",
        "    num_workers = config['data']['NUM_WORKERS'] if device == 'cuda' else 0,\n",
        "    pin_memory  = True,\n",
        "    collate_fn  = test_dataset.collate_fn\n",
        ")"
      ]
    },
    {
      "cell_type": "markdown",
      "metadata": {
        "id": "WLKjKWJQ7Q67"
      },
      "source": [
        "### Dataloader Verification"
      ]
    },
    {
      "cell_type": "code",
      "execution_count": 26,
      "metadata": {
        "id": "xY40PhyN7Q67"
      },
      "outputs": [
        {
          "name": "stdout",
          "output_type": "stream",
          "text": [
            "==================================================\n",
            "             Dataloader Verification              \n",
            "==================================================\n",
            "Dataloader Partition     : train\n",
            "--------------------------------------------------\n",
            "Number of Batches        : 2\n",
            "Batch Size               : 256\n",
            "--------------------------------------------------\n",
            "Checking shapes of the data...                    \n",
            "\n",
            "Shifted Transcript Shape : [256, 65]\n",
            "Golden Transcript Shape  : [256, 65]\n",
            "Transcript Lengths Shape : [256]\n",
            "--------------------------------------------------\n",
            "Max Transcript Length    : 65\n",
            "Avg. Chars per Token     : 4.57\n",
            "==================================================\n"
          ]
        }
      ],
      "source": [
        "verify_dataloader(train_loader)"
      ]
    },
    {
      "cell_type": "code",
      "execution_count": 27,
      "metadata": {
        "id": "Shfm0w7E7Q67"
      },
      "outputs": [
        {
          "name": "stdout",
          "output_type": "stream",
          "text": [
            "==================================================\n",
            "             Dataloader Verification              \n",
            "==================================================\n",
            "Dataloader Partition     : val\n",
            "--------------------------------------------------\n",
            "Number of Batches        : 1\n",
            "Batch Size               : 256\n",
            "--------------------------------------------------\n",
            "Checking shapes of the data...                    \n",
            "\n",
            "Shifted Transcript Shape : [7, 56]\n",
            "Golden Transcript Shape  : [7, 56]\n",
            "Transcript Lengths Shape : [7]\n",
            "--------------------------------------------------\n",
            "Max Transcript Length    : 56\n",
            "Avg. Chars per Token     : 4.49\n",
            "==================================================\n"
          ]
        }
      ],
      "source": [
        "verify_dataloader(val_loader)"
      ]
    },
    {
      "cell_type": "code",
      "execution_count": 28,
      "metadata": {
        "id": "dlP3xkCg7Q67"
      },
      "outputs": [
        {
          "name": "stdout",
          "output_type": "stream",
          "text": [
            "==================================================\n",
            "             Dataloader Verification              \n",
            "==================================================\n",
            "Dataloader Partition     : test\n",
            "--------------------------------------------------\n",
            "Number of Batches        : 1\n",
            "Batch Size               : 256\n",
            "--------------------------------------------------\n",
            "Checking shapes of the data...                    \n",
            "\n",
            "Shifted Transcript Shape : [7, 51]\n",
            "Golden Transcript Shape  : [7, 51]\n",
            "Transcript Lengths Shape : [7]\n",
            "--------------------------------------------------\n",
            "Max Transcript Length    : 51\n",
            "Avg. Chars per Token     : 4.17\n",
            "==================================================\n"
          ]
        }
      ],
      "source": [
        "verify_dataloader(test_loader)"
      ]
    },
    {
      "cell_type": "markdown",
      "metadata": {
        "id": "HCrlXlZH7Q67"
      },
      "source": [
        "## Calculate Max Transcript Length\n",
        "\n",
        "\n"
      ]
    },
    {
      "cell_type": "markdown",
      "metadata": {
        "id": "aIGxOLDU7Q67"
      },
      "source": [
        "Calculating the maximum transcript length across your dataset is a crucial step when working with certain transformer models.\n",
        "-  We'll use sinusoidal positional encodings that must be precomputed up to a fixed maximum length.\n",
        "- This maximum length is a hyperparameter that determines:\n",
        "  - How long of a sequence your model can process\n",
        "  - The size of your positional encoding matrix\n",
        "  - Memory requirements during training and inference\n",
        "- `Requirements`: For this assignment, ensure your positional encodings can accommodate at least the longest sequence in your dataset to prevent truncation. However, you can set this value higher if you anticipate using your language model to work with longer sequences in future tasks (hint: this might be useful for P2! 😉)."
      ]
    },
    {
      "cell_type": "code",
      "execution_count": 29,
      "metadata": {
        "id": "iWAWHucJ7Q67"
      },
      "outputs": [
        {
          "name": "stdout",
          "output_type": "stream",
          "text": [
            "==================================================\n",
            "Global Max Transcript Length   : 65\n",
            "==================================================\n"
          ]
        }
      ],
      "source": [
        "max_transcript_length = max(train_dataset.text_max_len, val_dataset.text_max_len, test_dataset.text_max_len)\n",
        "print(\"=\"*50)\n",
        "print(f\"{'Global Max Transcript Length':<30} : {max_transcript_length}\")\n",
        "print(\"=\"*50)"
      ]
    },
    {
      "cell_type": "markdown",
      "metadata": {
        "id": "ot4OuRE27Q67"
      },
      "source": [
        "## Model"
      ]
    },
    {
      "cell_type": "code",
      "execution_count": 30,
      "metadata": {
        "id": "qL2-8IbL7Q67"
      },
      "outputs": [
        {
          "name": "stdout",
          "output_type": "stream",
          "text": [
            "Shape of shifted_transcripts :  torch.Size([256, 65])\n",
            "Shape of golden_transcripts  :  torch.Size([256, 65])\n",
            "Shape of transcript_lengths  :  torch.Size([256])\n",
            "===============================================================================================\n",
            "Layer (type:depth-idx)                        Output Shape              Param #\n",
            "===============================================================================================\n",
            "DecoderOnlyTransformer                        [256, 65, 10000]          --\n",
            "├─Embedding: 1-1                              [256, 65, 256]            2,560,000\n",
            "├─PositionalEncoding: 1-2                     [256, 65, 256]            --\n",
            "├─Dropout: 1-3                                [256, 65, 256]            --\n",
            "├─ModuleList: 1-4                             --                        --\n",
            "│    └─SelfAttentionDecoderLayer: 2-1         [256, 65, 256]            --\n",
            "│    │    └─SelfAttentionLayer: 3-1           [256, 65, 256]            263,680\n",
            "│    │    └─FeedForwardLayer: 3-2             [256, 65, 256]            526,080\n",
            "│    └─SelfAttentionDecoderLayer: 2-2         [256, 65, 256]            --\n",
            "│    │    └─SelfAttentionLayer: 3-3           [256, 65, 256]            263,680\n",
            "│    │    └─FeedForwardLayer: 3-4             [256, 65, 256]            526,080\n",
            "├─LayerNorm: 1-5                              [256, 65, 256]            512\n",
            "├─Linear: 1-6                                 [256, 65, 10000]          2,570,000\n",
            "===============================================================================================\n",
            "Total params: 6,710,032\n",
            "Trainable params: 6,710,032\n",
            "Non-trainable params: 0\n",
            "Total mult-adds (Units.GIGABYTES): 1.58\n",
            "===============================================================================================\n",
            "Input size (MB): 0.14\n",
            "Forward/backward pass size (MB): 1876.46\n",
            "Params size (MB): 24.73\n",
            "Estimated Total Size (MB): 1901.33\n",
            "===============================================================================================\n"
          ]
        }
      ],
      "source": [
        "model_config = config['model']\n",
        "model_config.update({\n",
        "    'max_len': max_transcript_length,\n",
        "    'num_classes': Tokenizer.vocab_size\n",
        "})\n",
        "model = DecoderOnlyTransformer(**model_config)\n",
        "\n",
        "# Get some inputs from the text loader\n",
        "for batch in train_loader:\n",
        "    shifted_transcripts, golden_transcripts, transcript_lengths = batch\n",
        "    print(\"Shape of shifted_transcripts : \", shifted_transcripts.shape)\n",
        "    print(\"Shape of golden_transcripts  : \", golden_transcripts.shape)\n",
        "    print(\"Shape of transcript_lengths  : \", transcript_lengths.shape)\n",
        "    break\n",
        "\n",
        "model_stats = summary(model, input_data=[shifted_transcripts, transcript_lengths])\n",
        "print(model_stats)"
      ]
    },
    {
      "cell_type": "markdown",
      "metadata": {
        "id": "SH973f3x7Q67"
      },
      "source": [
        "## Wandb"
      ]
    },
    {
      "cell_type": "code",
      "execution_count": 31,
      "metadata": {
        "id": "oz7os7UA7Q68"
      },
      "outputs": [
        {
          "name": "stderr",
          "output_type": "stream",
          "text": [
            "\u001b[34m\u001b[1mwandb\u001b[0m: \u001b[33mWARNING\u001b[0m If you're specifying your api key in code, ensure this code is not shared publicly.\n",
            "\u001b[34m\u001b[1mwandb\u001b[0m: \u001b[33mWARNING\u001b[0m Consider setting the WANDB_API_KEY environment variable, or running `wandb login` from the command line.\n",
            "\u001b[34m\u001b[1mwandb\u001b[0m: Appending key for api.wandb.ai to your netrc file: /Users/kavisarna/.netrc\n"
          ]
        },
        {
          "data": {
            "text/plain": [
              "True"
            ]
          },
          "execution_count": 31,
          "metadata": {},
          "output_type": "execute_result"
        }
      ],
      "source": [
        "wandb.login(key=\"75bb392555edac9b34254a252496a57f3fa76453\")"
      ]
    },
    {
      "cell_type": "markdown",
      "metadata": {
        "id": "tQAemeOM7Q68"
      },
      "source": [
        "## Trainer\n",
        "\n",
        "Every time you run the trainer, it will create a new directory in the `expts` folder with the following structure:\n",
        "```\n",
        "expts/\n",
        "    └── {run_name}/\n",
        "        ├── config.yaml\n",
        "        ├── model_arch.txt\n",
        "        ├── checkpoints/\n",
        "        │   ├── checkpoint-best-metric-model.pth\n",
        "        │   └── checkpoint-last-epoch-model.pth\n",
        "        ├── attn/\n",
        "        │   └── {attention visualizations}\n",
        "        └── text/\n",
        "            └── {generated text outputs}\n",
        "```"
      ]
    },
    {
      "cell_type": "code",
      "execution_count": 32,
      "metadata": {
        "id": "UcvGSnWi7Q68"
      },
      "outputs": [
        {
          "name": "stdout",
          "output_type": "stream",
          "text": [
            "Using device: cpu\n"
          ]
        },
        {
          "data": {
            "text/html": [
              "Tracking run with wandb version 0.19.2"
            ],
            "text/plain": [
              "<IPython.core.display.HTML object>"
            ]
          },
          "metadata": {},
          "output_type": "display_data"
        },
        {
          "data": {
            "text/html": [
              "Run data is saved locally in <code>/Users/kavisarna/Courses/CMU/11-785 - IDL/Homeworks/Homework 4/Part 1/Submission/IDL-HW4/wandb/run-20250423_195659-y42hzn4l</code>"
            ],
            "text/plain": [
              "<IPython.core.display.HTML object>"
            ]
          },
          "metadata": {},
          "output_type": "display_data"
        },
        {
          "data": {
            "text/html": [
              "Syncing run <strong><a href='https://wandb.ai/kavisarna-cmu/HW4P1/runs/y42hzn4l' target=\"_blank\">test-lm</a></strong> to <a href='https://wandb.ai/kavisarna-cmu/HW4P1' target=\"_blank\">Weights & Biases</a> (<a href='https://wandb.me/developer-guide' target=\"_blank\">docs</a>)<br>"
            ],
            "text/plain": [
              "<IPython.core.display.HTML object>"
            ]
          },
          "metadata": {},
          "output_type": "display_data"
        },
        {
          "data": {
            "text/html": [
              " View project at <a href='https://wandb.ai/kavisarna-cmu/HW4P1' target=\"_blank\">https://wandb.ai/kavisarna-cmu/HW4P1</a>"
            ],
            "text/plain": [
              "<IPython.core.display.HTML object>"
            ]
          },
          "metadata": {},
          "output_type": "display_data"
        },
        {
          "data": {
            "text/html": [
              " View run at <a href='https://wandb.ai/kavisarna-cmu/HW4P1/runs/y42hzn4l' target=\"_blank\">https://wandb.ai/kavisarna-cmu/HW4P1/runs/y42hzn4l</a>"
            ],
            "text/plain": [
              "<IPython.core.display.HTML object>"
            ]
          },
          "metadata": {},
          "output_type": "display_data"
        }
      ],
      "source": [
        "trainer = LMTrainer(\n",
        "    model=model,\n",
        "    tokenizer=Tokenizer,\n",
        "    config=config,\n",
        "    run_name=\"test-lm\",\n",
        "    config_file=\"config.yaml\",\n",
        "    device=device\n",
        ")"
      ]
    },
    {
      "cell_type": "markdown",
      "metadata": {
        "id": "CJREaFhqiPrT"
      },
      "source": [
        "### Setup Optimizer and Scheduler\n",
        "\n",
        "You can set your own optimizer and scheduler by setting the class members in the `LMTrainer` class.\n",
        "Eg:\n",
        "```python\n",
        "trainer.optimizer = optim.AdamW(model.parameters(), lr=config['optimizer']['lr'], weight_decay=config['optimizer']['weight_decay'])\n",
        "trainer.scheduler = optim.lr_scheduler.CosineAnnealingLR(trainer.optimizer, T_max=config['training']['epochs'])\n",
        "```\n",
        "\n",
        "We also provide a utility function to create your own optimizer and scheduler with the congig and some extra bells and whistles. You are free to use it or not. Do read their code and documentation to understand how it works (`hw4lib/utils/*`).\n"
      ]
    },
    {
      "cell_type": "markdown",
      "metadata": {},
      "source": [
        "#### Setting up the optimizer"
      ]
    },
    {
      "cell_type": "code",
      "execution_count": 33,
      "metadata": {
        "id": "GkljGtIPkATt"
      },
      "outputs": [
        {
          "name": "stdout",
          "output_type": "stream",
          "text": [
            "\n",
            "🔧 Configuring Optimizer:\n",
            "├── Type: ADAM\n",
            "├── Base LR: 5e-05\n",
            "├── Weight Decay: 0.0001\n",
            "├── Parameter Groups:\n",
            "│   ├── Group: self_attn\n",
            "│   │   ├── LR: 0.0001\n",
            "│   │   └── Patterns: []\n",
            "│   ├── Group: ffn\n",
            "│   │   ├── LR: 0.0001\n",
            "│   │   └── Patterns: []\n",
            "│   └── Default Group (unmatched parameters)\n",
            "└── Adam Specific:\n",
            "    ├── Betas: [0.9, 0.999]\n",
            "    ├── Epsilon: 1e-08\n",
            "    └── AMSGrad: False\n"
          ]
        }
      ],
      "source": [
        "trainer.optimizer = create_optimizer(\n",
        "    model=model,\n",
        "    opt_config=config['optimizer']\n",
        ")"
      ]
    },
    {
      "cell_type": "markdown",
      "metadata": {},
      "source": [
        "#### Creating a test scheduler and plotting the learning rate schedule"
      ]
    },
    {
      "cell_type": "code",
      "execution_count": 34,
      "metadata": {
        "id": "inatJGBVi3II"
      },
      "outputs": [
        {
          "name": "stdout",
          "output_type": "stream",
          "text": [
            "\n",
            "📈 Configuring Learning Rate Scheduler:\n",
            "├── Type: COSINE\n",
            "├── Cosine Annealing Settings:\n",
            "│   ├── T_max: 15 epochs (30 steps)\n",
            "│   └── Min LR: 1e-08\n",
            "├── Warmup Settings:\n",
            "│   ├── Duration: 5 epochs (10 steps)\n",
            "│   ├── Start Factor: 0.1\n",
            "│   └── End Factor: 1.0\n",
            "Warning: Only showing 5 out of 29 parameter groups for clarity\n"
          ]
        },
        {
          "name": "stderr",
          "output_type": "stream",
          "text": [
            "/Users/kavisarna/Programming/Conda/miniconda3/envs/IDL_s25/lib/python3.12/site-packages/torch/optim/lr_scheduler.py:240: UserWarning: The epoch parameter in `scheduler.step()` was not necessary and is being deprecated where possible. Please use `scheduler.step()` to step the scheduler. During the deprecation, if epoch is different from None, the closed form is used instead of the new chainable form, where available. Please open an issue if you are unable to replicate your use case: https://github.com/pytorch/pytorch/issues/new/choose.\n",
            "  warnings.warn(EPOCH_DEPRECATION_WARNING, UserWarning)\n"
          ]
        },
        {
          "data": {
            "image/png": "[encoded data removed]",
            "text/plain": [
              "<Figure size 1200x400 with 2 Axes>"
            ]
          },
          "metadata": {},
          "output_type": "display_data"
        }
      ],
      "source": [
        "test_scheduler = create_scheduler(\n",
        "    optimizer=trainer.optimizer,\n",
        "    scheduler_config=config['scheduler'],\n",
        "    train_loader=train_loader,\n",
        "    gradient_accumulation_steps=config['training']['gradient_accumulation_steps']\n",
        ")\n",
        "\n",
        "plot_lr_schedule(\n",
        "    scheduler=test_scheduler,\n",
        "    num_epochs=config['training']['epochs'],\n",
        "    train_loader=train_loader,\n",
        "    gradient_accumulation_steps=config['training']['gradient_accumulation_steps']\n",
        ")"
      ]
    },
    {
      "cell_type": "markdown",
      "metadata": {},
      "source": [
        "#### Setting up the scheduler"
      ]
    },
    {
      "cell_type": "code",
      "execution_count": 35,
      "metadata": {
        "id": "yXrwTbqdiPE_"
      },
      "outputs": [
        {
          "name": "stdout",
          "output_type": "stream",
          "text": [
            "\n",
            "📈 Configuring Learning Rate Scheduler:\n",
            "├── Type: COSINE\n",
            "├── Cosine Annealing Settings:\n",
            "│   ├── T_max: 15 epochs (30 steps)\n",
            "│   └── Min LR: 1e-08\n",
            "├── Warmup Settings:\n",
            "│   ├── Duration: 5 epochs (10 steps)\n",
            "│   ├── Start Factor: 0.1\n",
            "│   └── End Factor: 1.0\n"
          ]
        }
      ],
      "source": [
        "trainer.scheduler = create_scheduler(\n",
        "    optimizer=trainer.optimizer,\n",
        "    scheduler_config=config['scheduler'],\n",
        "    train_loader=train_loader,\n",
        "    gradient_accumulation_steps=config['training']['gradient_accumulation_steps']\n",
        ")"
      ]
    },
    {
      "cell_type": "markdown",
      "metadata": {
        "id": "0XI0dHJB7Q68"
      },
      "source": [
        "# Train\n",
        "- Set your epochs"
      ]
    },
    {
      "cell_type": "code",
      "execution_count": 17,
      "metadata": {
        "id": "nugAKoOw7Q68"
      },
      "outputs": [
        {
          "name": "stderr",
          "output_type": "stream",
          "text": [
            "                                                                                                                            \r"
          ]
        },
        {
          "name": "stdout",
          "output_type": "stream",
          "text": [
            "Generating with greedy search...\n",
            "\n",
            "📊 Metrics (Epoch 0):\n",
            "├── TRAIN:\n",
            "│   ├── ce_loss_char: 2.0941\n",
            "│   ├── ce_loss_token: 8.6648\n",
            "│   ├── perplexity_char: 8.1179\n",
            "│   └── perplexity_token: 5795.2949\n",
            "└── VAL:\n",
            "    ├── ce_loss_char: 2.1760\n",
            "    ├── ce_loss_token: 8.5968\n",
            "    ├── perplexity_char: 8.8109\n",
            "    └── perplexity_token: 5414.5684\n",
            "└── TRAINING:\n",
            "    └── learning_rate: 0.000140\n"
          ]
        },
        {
          "name": "stderr",
          "output_type": "stream",
          "text": [
            "\u001b[34m\u001b[1mwandb\u001b[0m: \u001b[33mWARNING\u001b[0m Saving files without folders. If you want to preserve subdirectories pass base_path to wandb.save, i.e. wandb.save(\"/mnt/folder/file.h5\", base_path=\"/mnt\")\n",
            "                                                                                                                            \r"
          ]
        },
        {
          "name": "stdout",
          "output_type": "stream",
          "text": [
            "Generating with greedy search...\n",
            "\n",
            "📊 Metrics (Epoch 1):\n",
            "├── TRAIN:\n",
            "│   ├── ce_loss_char: 2.0853\n",
            "│   ├── ce_loss_token: 8.6283\n",
            "│   ├── perplexity_char: 8.0466\n",
            "│   └── perplexity_token: 5587.7031\n",
            "└── VAL:\n",
            "    ├── ce_loss_char: 2.1619\n",
            "    ├── ce_loss_token: 8.5413\n",
            "    ├── perplexity_char: 8.6880\n",
            "    └── perplexity_token: 5122.2275\n",
            "└── TRAINING:\n",
            "    └── learning_rate: 0.000230\n"
          ]
        },
        {
          "name": "stderr",
          "output_type": "stream",
          "text": [
            "                                                                                                                            \r"
          ]
        },
        {
          "name": "stdout",
          "output_type": "stream",
          "text": [
            "Generating with greedy search...\n",
            "\n",
            "📊 Metrics (Epoch 2):\n",
            "├── TRAIN:\n",
            "│   ├── ce_loss_char: 2.0670\n",
            "│   ├── ce_loss_token: 8.5527\n",
            "│   ├── perplexity_char: 7.9009\n",
            "│   └── perplexity_token: 5180.7334\n",
            "└── VAL:\n",
            "    ├── ce_loss_char: 2.1404\n",
            "    ├── ce_loss_token: 8.4562\n",
            "    ├── perplexity_char: 8.5027\n",
            "    └── perplexity_token: 4704.0522\n",
            "└── TRAINING:\n",
            "    └── learning_rate: 0.000320\n"
          ]
        },
        {
          "name": "stderr",
          "output_type": "stream",
          "text": [
            "                                                                                                                            \r"
          ]
        },
        {
          "name": "stdout",
          "output_type": "stream",
          "text": [
            "Generating with greedy search...\n",
            "\n",
            "📊 Metrics (Epoch 3):\n",
            "├── TRAIN:\n",
            "│   ├── ce_loss_char: 2.0391\n",
            "│   ├── ce_loss_token: 8.4375\n",
            "│   ├── perplexity_char: 7.6841\n",
            "│   └── perplexity_token: 4617.1699\n",
            "└── VAL:\n",
            "    ├── ce_loss_char: 2.1108\n",
            "    ├── ce_loss_token: 8.3392\n",
            "    ├── perplexity_char: 8.2546\n",
            "    └── perplexity_token: 4184.5688\n",
            "└── TRAINING:\n",
            "    └── learning_rate: 0.000410\n"
          ]
        },
        {
          "name": "stderr",
          "output_type": "stream",
          "text": [
            "[Training LM]:  50%|█████     | 1/2 [00:38<00:38, 38.07s/it, acc_step=1/1, ce_loss_token=8.2867, perplexity_token=3970.7747]/Users/kavisarna/Programming/Conda/miniconda3/envs/IDL_s25/lib/python3.12/site-packages/torch/optim/lr_scheduler.py:240: UserWarning: The epoch parameter in `scheduler.step()` was not necessary and is being deprecated where possible. Please use `scheduler.step()` to step the scheduler. During the deprecation, if epoch is different from None, the closed form is used instead of the new chainable form, where available. Please open an issue if you are unable to replicate your use case: https://github.com/pytorch/pytorch/issues/new/choose.\n",
            "  warnings.warn(EPOCH_DEPRECATION_WARNING, UserWarning)\n",
            "                                                                                                                            \r"
          ]
        },
        {
          "name": "stdout",
          "output_type": "stream",
          "text": [
            "Generating with greedy search...\n",
            "\n",
            "📊 Metrics (Epoch 4):\n",
            "├── TRAIN:\n",
            "│   ├── ce_loss_char: 2.0009\n",
            "│   ├── ce_loss_token: 8.2793\n",
            "│   ├── perplexity_char: 7.3957\n",
            "│   └── perplexity_token: 3941.3694\n",
            "└── VAL:\n",
            "    ├── ce_loss_char: 2.0711\n",
            "    ├── ce_loss_token: 8.1825\n",
            "    ├── perplexity_char: 7.9337\n",
            "    └── perplexity_token: 3577.7603\n",
            "└── TRAINING:\n",
            "    └── learning_rate: 0.000500\n"
          ]
        },
        {
          "name": "stderr",
          "output_type": "stream",
          "text": [
            "                                                                                                                            \r"
          ]
        },
        {
          "name": "stdout",
          "output_type": "stream",
          "text": [
            "Generating with greedy search...\n",
            "\n",
            "📊 Metrics (Epoch 5):\n",
            "├── TRAIN:\n",
            "│   ├── ce_loss_char: 1.9510\n",
            "│   ├── ce_loss_token: 8.0728\n",
            "│   ├── perplexity_char: 7.0357\n",
            "│   └── perplexity_token: 3206.1082\n",
            "└── VAL:\n",
            "    ├── ce_loss_char: 2.0207\n",
            "    ├── ce_loss_token: 7.9833\n",
            "    ├── perplexity_char: 7.5436\n",
            "    └── perplexity_token: 2931.6194\n",
            "└── TRAINING:\n",
            "    └── learning_rate: 0.000495\n"
          ]
        },
        {
          "name": "stderr",
          "output_type": "stream",
          "text": [
            "                                                                                                                            \r"
          ]
        },
        {
          "name": "stdout",
          "output_type": "stream",
          "text": [
            "Generating with greedy search...\n",
            "\n",
            "📊 Metrics (Epoch 6):\n",
            "├── TRAIN:\n",
            "│   ├── ce_loss_char: 1.8896\n",
            "│   ├── ce_loss_token: 7.8188\n",
            "│   ├── perplexity_char: 6.6168\n",
            "│   └── perplexity_token: 2486.9419\n",
            "└── VAL:\n",
            "    ├── ce_loss_char: 1.9668\n",
            "    ├── ce_loss_token: 7.7706\n",
            "    ├── perplexity_char: 7.1481\n",
            "    └── perplexity_token: 2369.7874\n",
            "└── TRAINING:\n",
            "    └── learning_rate: 0.000478\n"
          ]
        },
        {
          "name": "stderr",
          "output_type": "stream",
          "text": [
            "                                                                                                                            \r"
          ]
        },
        {
          "name": "stdout",
          "output_type": "stream",
          "text": [
            "Generating with greedy search...\n",
            "\n",
            "📊 Metrics (Epoch 7):\n",
            "├── TRAIN:\n",
            "│   ├── ce_loss_char: 1.8274\n",
            "│   ├── ce_loss_token: 7.5614\n",
            "│   ├── perplexity_char: 6.2178\n",
            "│   └── perplexity_token: 1922.5598\n",
            "└── VAL:\n",
            "    ├── ce_loss_char: 1.9157\n",
            "    ├── ce_loss_token: 7.5683\n",
            "    ├── perplexity_char: 6.7914\n",
            "    └── perplexity_token: 1935.8831\n",
            "└── TRAINING:\n",
            "    └── learning_rate: 0.000452\n"
          ]
        },
        {
          "name": "stderr",
          "output_type": "stream",
          "text": [
            "                                                                                                                            \r"
          ]
        },
        {
          "name": "stdout",
          "output_type": "stream",
          "text": [
            "Generating with greedy search...\n",
            "\n",
            "📊 Metrics (Epoch 8):\n",
            "├── TRAIN:\n",
            "│   ├── ce_loss_char: 1.7707\n",
            "│   ├── ce_loss_token: 7.3267\n",
            "│   ├── perplexity_char: 5.8748\n",
            "│   └── perplexity_token: 1520.3096\n",
            "└── VAL:\n",
            "    ├── ce_loss_char: 1.8736\n",
            "    ├── ce_loss_token: 7.4021\n",
            "    ├── perplexity_char: 6.5116\n",
            "    └── perplexity_token: 1639.3956\n",
            "└── TRAINING:\n",
            "    └── learning_rate: 0.000417\n"
          ]
        },
        {
          "name": "stderr",
          "output_type": "stream",
          "text": [
            "                                                                                                                            \r"
          ]
        },
        {
          "name": "stdout",
          "output_type": "stream",
          "text": [
            "Generating with greedy search...\n",
            "\n",
            "📊 Metrics (Epoch 9):\n",
            "├── TRAIN:\n",
            "│   ├── ce_loss_char: 1.7254\n",
            "│   ├── ce_loss_token: 7.1392\n",
            "│   ├── perplexity_char: 5.6145\n",
            "│   └── perplexity_token: 1260.3616\n",
            "└── VAL:\n",
            "    ├── ce_loss_char: 1.8416\n",
            "    ├── ce_loss_token: 7.2757\n",
            "    ├── perplexity_char: 6.3066\n",
            "    └── perplexity_token: 1444.8092\n",
            "└── TRAINING:\n",
            "    └── learning_rate: 0.000375\n"
          ]
        },
        {
          "name": "stderr",
          "output_type": "stream",
          "text": [
            "                                                                                                                            \r"
          ]
        },
        {
          "name": "stdout",
          "output_type": "stream",
          "text": [
            "Generating with greedy search...\n",
            "\n",
            "📊 Metrics (Epoch 10):\n",
            "├── TRAIN:\n",
            "│   ├── ce_loss_char: 1.6911\n",
            "│   ├── ce_loss_token: 6.9973\n",
            "│   ├── perplexity_char: 5.4254\n",
            "│   └── perplexity_token: 1093.7087\n",
            "└── VAL:\n",
            "    ├── ce_loss_char: 1.8180\n",
            "    ├── ce_loss_token: 7.1825\n",
            "    ├── perplexity_char: 6.1595\n",
            "    └── perplexity_token: 1316.1506\n",
            "└── TRAINING:\n",
            "    └── learning_rate: 0.000327\n"
          ]
        },
        {
          "name": "stderr",
          "output_type": "stream",
          "text": [
            "                                                                                                                           \r"
          ]
        },
        {
          "name": "stdout",
          "output_type": "stream",
          "text": [
            "Generating with greedy search...\n",
            "\n",
            "📊 Metrics (Epoch 11):\n",
            "├── TRAIN:\n",
            "│   ├── ce_loss_char: 1.6661\n",
            "│   ├── ce_loss_token: 6.8938\n",
            "│   ├── perplexity_char: 5.2912\n",
            "│   └── perplexity_token: 986.1019\n",
            "└── VAL:\n",
            "    ├── ce_loss_char: 1.8009\n",
            "    ├── ce_loss_token: 7.1149\n",
            "    ├── perplexity_char: 6.0551\n",
            "    └── perplexity_token: 1230.1918\n",
            "└── TRAINING:\n",
            "    └── learning_rate: 0.000276\n"
          ]
        },
        {
          "name": "stderr",
          "output_type": "stream",
          "text": [
            "                                                                                                                           \r"
          ]
        },
        {
          "name": "stdout",
          "output_type": "stream",
          "text": [
            "Generating with greedy search...\n",
            "\n",
            "📊 Metrics (Epoch 12):\n",
            "├── TRAIN:\n",
            "│   ├── ce_loss_char: 1.6480\n",
            "│   ├── ce_loss_token: 6.8190\n",
            "│   ├── perplexity_char: 5.1966\n",
            "│   └── perplexity_token: 915.1146\n",
            "└── VAL:\n",
            "    ├── ce_loss_char: 1.7886\n",
            "    ├── ce_loss_token: 7.0664\n",
            "    ├── perplexity_char: 5.9812\n",
            "    └── perplexity_token: 1171.9529\n",
            "└── TRAINING:\n",
            "    └── learning_rate: 0.000224\n"
          ]
        },
        {
          "name": "stderr",
          "output_type": "stream",
          "text": [
            "                                                                                                                           \r"
          ]
        },
        {
          "name": "stdout",
          "output_type": "stream",
          "text": [
            "Generating with greedy search...\n",
            "\n",
            "📊 Metrics (Epoch 13):\n",
            "├── TRAIN:\n",
            "│   ├── ce_loss_char: 1.6350\n",
            "│   ├── ce_loss_token: 6.7653\n",
            "│   ├── perplexity_char: 5.1295\n",
            "│   └── perplexity_token: 867.2154\n",
            "└── VAL:\n",
            "    ├── ce_loss_char: 1.7800\n",
            "    ├── ce_loss_token: 7.0323\n",
            "    ├── perplexity_char: 5.9298\n",
            "    └── perplexity_token: 1132.6521\n",
            "└── TRAINING:\n",
            "    └── learning_rate: 0.000173\n"
          ]
        },
        {
          "name": "stderr",
          "output_type": "stream",
          "text": [
            "                                                                                                                           \r"
          ]
        },
        {
          "name": "stdout",
          "output_type": "stream",
          "text": [
            "Generating with greedy search...\n",
            "\n",
            "📊 Metrics (Epoch 14):\n",
            "├── TRAIN:\n",
            "│   ├── ce_loss_char: 1.6259\n",
            "│   ├── ce_loss_token: 6.7277\n",
            "│   ├── perplexity_char: 5.0831\n",
            "│   └── perplexity_token: 835.2131\n",
            "└── VAL:\n",
            "    ├── ce_loss_char: 1.7740\n",
            "    ├── ce_loss_token: 7.0086\n",
            "    ├── perplexity_char: 5.8942\n",
            "    └── perplexity_token: 1106.0514\n",
            "└── TRAINING:\n",
            "    └── learning_rate: 0.000125\n"
          ]
        },
        {
          "name": "stderr",
          "output_type": "stream",
          "text": [
            "                                                                                                                           \r"
          ]
        },
        {
          "name": "stdout",
          "output_type": "stream",
          "text": [
            "Generating with greedy search...\n",
            "\n",
            "📊 Metrics (Epoch 15):\n",
            "├── TRAIN:\n",
            "│   ├── ce_loss_char: 1.6197\n",
            "│   ├── ce_loss_token: 6.7021\n",
            "│   ├── perplexity_char: 5.0518\n",
            "│   └── perplexity_token: 814.1166\n",
            "└── VAL:\n",
            "    ├── ce_loss_char: 1.7700\n",
            "    ├── ce_loss_token: 6.9929\n",
            "    ├── perplexity_char: 5.8709\n",
            "    └── perplexity_token: 1088.8708\n",
            "└── TRAINING:\n",
            "    └── learning_rate: 0.000083\n"
          ]
        },
        {
          "name": "stderr",
          "output_type": "stream",
          "text": [
            "                                                                                                                           \r"
          ]
        },
        {
          "name": "stdout",
          "output_type": "stream",
          "text": [
            "Generating with greedy search...\n",
            "\n",
            "📊 Metrics (Epoch 16):\n",
            "├── TRAIN:\n",
            "│   ├── ce_loss_char: 1.6156\n",
            "│   ├── ce_loss_token: 6.6851\n",
            "│   ├── perplexity_char: 5.0311\n",
            "│   └── perplexity_token: 800.4045\n",
            "└── VAL:\n",
            "    ├── ce_loss_char: 1.7676\n",
            "    ├── ce_loss_token: 6.9835\n",
            "    ├── perplexity_char: 5.8569\n",
            "    └── perplexity_token: 1078.6759\n",
            "└── TRAINING:\n",
            "    └── learning_rate: 0.000048\n"
          ]
        },
        {
          "name": "stderr",
          "output_type": "stream",
          "text": [
            "                                                                                                                           \r"
          ]
        },
        {
          "name": "stdout",
          "output_type": "stream",
          "text": [
            "Generating with greedy search...\n",
            "\n",
            "📊 Metrics (Epoch 17):\n",
            "├── TRAIN:\n",
            "│   ├── ce_loss_char: 1.6131\n",
            "│   ├── ce_loss_token: 6.6748\n",
            "│   ├── perplexity_char: 5.0186\n",
            "│   └── perplexity_token: 792.2180\n",
            "└── VAL:\n",
            "    ├── ce_loss_char: 1.7664\n",
            "    ├── ce_loss_token: 6.9787\n",
            "    ├── perplexity_char: 5.8498\n",
            "    └── perplexity_token: 1073.4750\n",
            "└── TRAINING:\n",
            "    └── learning_rate: 0.000022\n"
          ]
        },
        {
          "name": "stderr",
          "output_type": "stream",
          "text": [
            "                                                                                                                           \r"
          ]
        },
        {
          "name": "stdout",
          "output_type": "stream",
          "text": [
            "Generating with greedy search...\n",
            "\n",
            "📊 Metrics (Epoch 18):\n",
            "├── TRAIN:\n",
            "│   ├── ce_loss_char: 1.6118\n",
            "│   ├── ce_loss_token: 6.6693\n",
            "│   ├── perplexity_char: 5.0119\n",
            "│   └── perplexity_token: 787.8616\n",
            "└── VAL:\n",
            "    ├── ce_loss_char: 1.7659\n",
            "    ├── ce_loss_token: 6.9767\n",
            "    ├── perplexity_char: 5.8469\n",
            "    └── perplexity_token: 1071.4054\n",
            "└── TRAINING:\n",
            "    └── learning_rate: 0.000005\n"
          ]
        },
        {
          "name": "stderr",
          "output_type": "stream",
          "text": [
            "                                                                                                                           \r"
          ]
        },
        {
          "name": "stdout",
          "output_type": "stream",
          "text": [
            "Generating with greedy search...\n",
            "\n",
            "📊 Metrics (Epoch 19):\n",
            "├── TRAIN:\n",
            "│   ├── ce_loss_char: 1.6113\n",
            "│   ├── ce_loss_token: 6.6671\n",
            "│   ├── perplexity_char: 5.0092\n",
            "│   └── perplexity_token: 786.0878\n",
            "└── VAL:\n",
            "    ├── ce_loss_char: 1.7658\n",
            "    ├── ce_loss_token: 6.9763\n",
            "    ├── perplexity_char: 5.8463\n",
            "    └── perplexity_token: 1070.9810\n",
            "└── TRAINING:\n",
            "    └── learning_rate: 0.000000\n"
          ]
        },
        {
          "name": "stderr",
          "output_type": "stream",
          "text": [
            "                                                                                                                           \r"
          ]
        },
        {
          "name": "stdout",
          "output_type": "stream",
          "text": [
            "Generating with greedy search...\n",
            "\n",
            "📊 Metrics (Epoch 20):\n",
            "├── TRAIN:\n",
            "│   ├── ce_loss_char: 1.6112\n",
            "│   ├── ce_loss_token: 6.6666\n",
            "│   ├── perplexity_char: 5.0086\n",
            "│   └── perplexity_token: 785.7378\n",
            "└── VAL:\n",
            "    ├── ce_loss_char: 1.7658\n",
            "    ├── ce_loss_token: 6.9763\n",
            "    ├── perplexity_char: 5.8462\n",
            "    └── perplexity_token: 1070.8982\n",
            "└── TRAINING:\n",
            "    └── learning_rate: 0.000005\n"
          ]
        },
        {
          "name": "stderr",
          "output_type": "stream",
          "text": [
            "                                                                                                                           \r"
          ]
        },
        {
          "name": "stdout",
          "output_type": "stream",
          "text": [
            "Generating with greedy search...\n",
            "\n",
            "📊 Metrics (Epoch 21):\n",
            "├── TRAIN:\n",
            "│   ├── ce_loss_char: 1.6111\n",
            "│   ├── ce_loss_token: 6.6665\n",
            "│   ├── perplexity_char: 5.0085\n",
            "│   └── perplexity_token: 785.6539\n",
            "└── VAL:\n",
            "    ├── ce_loss_char: 1.7655\n",
            "    ├── ce_loss_token: 6.9753\n",
            "    ├── perplexity_char: 5.8448\n",
            "    └── perplexity_token: 1069.8473\n",
            "└── TRAINING:\n",
            "    └── learning_rate: 0.000022\n"
          ]
        },
        {
          "name": "stderr",
          "output_type": "stream",
          "text": [
            "                                                                                                                           \r"
          ]
        },
        {
          "name": "stdout",
          "output_type": "stream",
          "text": [
            "Generating with greedy search...\n",
            "\n",
            "📊 Metrics (Epoch 22):\n",
            "├── TRAIN:\n",
            "│   ├── ce_loss_char: 1.6108\n",
            "│   ├── ce_loss_token: 6.6653\n",
            "│   ├── perplexity_char: 5.0070\n",
            "│   └── perplexity_token: 784.6819\n",
            "└── VAL:\n",
            "    ├── ce_loss_char: 1.7648\n",
            "    ├── ce_loss_token: 6.9722\n",
            "    ├── perplexity_char: 5.8403\n",
            "    └── perplexity_token: 1066.6107\n",
            "└── TRAINING:\n",
            "    └── learning_rate: 0.000048\n"
          ]
        },
        {
          "name": "stderr",
          "output_type": "stream",
          "text": [
            "                                                                                                                           \r"
          ]
        },
        {
          "name": "stdout",
          "output_type": "stream",
          "text": [
            "Generating with greedy search...\n",
            "\n",
            "📊 Metrics (Epoch 23):\n",
            "├── TRAIN:\n",
            "│   ├── ce_loss_char: 1.6099\n",
            "│   ├── ce_loss_token: 6.6614\n",
            "│   ├── perplexity_char: 5.0024\n",
            "│   └── perplexity_token: 781.6749\n",
            "└── VAL:\n",
            "    ├── ce_loss_char: 1.7633\n",
            "    ├── ce_loss_token: 6.9662\n",
            "    ├── perplexity_char: 5.8314\n",
            "    └── perplexity_token: 1060.1953\n",
            "└── TRAINING:\n",
            "    └── learning_rate: 0.000083\n"
          ]
        },
        {
          "name": "stderr",
          "output_type": "stream",
          "text": [
            "                                                                                                                           \r"
          ]
        },
        {
          "name": "stdout",
          "output_type": "stream",
          "text": [
            "Generating with greedy search...\n",
            "\n",
            "📊 Metrics (Epoch 24):\n",
            "├── TRAIN:\n",
            "│   ├── ce_loss_char: 1.6081\n",
            "│   ├── ce_loss_token: 6.6540\n",
            "│   ├── perplexity_char: 4.9933\n",
            "│   └── perplexity_token: 775.8464\n",
            "└── VAL:\n",
            "    ├── ce_loss_char: 1.7607\n",
            "    ├── ce_loss_token: 6.9563\n",
            "    ├── perplexity_char: 5.8167\n",
            "    └── perplexity_token: 1049.7125\n",
            "└── TRAINING:\n",
            "    └── learning_rate: 0.000125\n"
          ]
        },
        {
          "name": "stderr",
          "output_type": "stream",
          "text": [
            "                                                                                                                           \r"
          ]
        },
        {
          "name": "stdout",
          "output_type": "stream",
          "text": [
            "Generating with greedy search...\n",
            "\n",
            "📊 Metrics (Epoch 25):\n",
            "├── TRAIN:\n",
            "│   ├── ce_loss_char: 1.6052\n",
            "│   ├── ce_loss_token: 6.6419\n",
            "│   ├── perplexity_char: 4.9788\n",
            "│   └── perplexity_token: 766.5599\n",
            "└── VAL:\n",
            "    ├── ce_loss_char: 1.7572\n",
            "    ├── ce_loss_token: 6.9424\n",
            "    ├── perplexity_char: 5.7964\n",
            "    └── perplexity_token: 1035.3011\n",
            "└── TRAINING:\n",
            "    └── learning_rate: 0.000173\n"
          ]
        },
        {
          "name": "stderr",
          "output_type": "stream",
          "text": [
            "                                                                                                                           \r"
          ]
        },
        {
          "name": "stdout",
          "output_type": "stream",
          "text": [
            "Generating with greedy search...\n",
            "\n",
            "📊 Metrics (Epoch 26):\n",
            "├── TRAIN:\n",
            "│   ├── ce_loss_char: 1.6011\n",
            "│   ├── ce_loss_token: 6.6251\n",
            "│   ├── perplexity_char: 4.9586\n",
            "│   └── perplexity_token: 753.7793\n",
            "└── VAL:\n",
            "    ├── ce_loss_char: 1.7533\n",
            "    ├── ce_loss_token: 6.9268\n",
            "    ├── perplexity_char: 5.7735\n",
            "    └── perplexity_token: 1019.2095\n",
            "└── TRAINING:\n",
            "    └── learning_rate: 0.000224\n"
          ]
        },
        {
          "name": "stderr",
          "output_type": "stream",
          "text": [
            "                                                                                                                           \r"
          ]
        },
        {
          "name": "stdout",
          "output_type": "stream",
          "text": [
            "Generating with greedy search...\n",
            "\n",
            "📊 Metrics (Epoch 27):\n",
            "├── TRAIN:\n",
            "│   ├── ce_loss_char: 1.5959\n",
            "│   ├── ce_loss_token: 6.6036\n",
            "│   ├── perplexity_char: 4.9329\n",
            "│   └── perplexity_token: 737.7502\n",
            "└── VAL:\n",
            "    ├── ce_loss_char: 1.7492\n",
            "    ├── ce_loss_token: 6.9106\n",
            "    ├── perplexity_char: 5.7499\n",
            "    └── perplexity_token: 1002.8801\n",
            "└── TRAINING:\n",
            "    └── learning_rate: 0.000276\n"
          ]
        },
        {
          "name": "stderr",
          "output_type": "stream",
          "text": [
            "                                                                                                                           \r"
          ]
        },
        {
          "name": "stdout",
          "output_type": "stream",
          "text": [
            "Generating with greedy search...\n",
            "\n",
            "📊 Metrics (Epoch 28):\n",
            "├── TRAIN:\n",
            "│   ├── ce_loss_char: 1.5898\n",
            "│   ├── ce_loss_token: 6.5784\n",
            "│   ├── perplexity_char: 4.9029\n",
            "│   └── perplexity_token: 719.3690\n",
            "└── VAL:\n",
            "    ├── ce_loss_char: 1.7450\n",
            "    ├── ce_loss_token: 6.8940\n",
            "    ├── perplexity_char: 5.7258\n",
            "    └── perplexity_token: 986.3399\n",
            "└── TRAINING:\n",
            "    └── learning_rate: 0.000327\n"
          ]
        },
        {
          "name": "stderr",
          "output_type": "stream",
          "text": [
            "                                                                                                                           \r"
          ]
        },
        {
          "name": "stdout",
          "output_type": "stream",
          "text": [
            "Generating with greedy search...\n",
            "\n",
            "📊 Metrics (Epoch 29):\n",
            "├── TRAIN:\n",
            "│   ├── ce_loss_char: 1.5830\n",
            "│   ├── ce_loss_token: 6.5499\n",
            "│   ├── perplexity_char: 4.8693\n",
            "│   └── perplexity_token: 699.1736\n",
            "└── VAL:\n",
            "    ├── ce_loss_char: 1.7407\n",
            "    ├── ce_loss_token: 6.8771\n",
            "    ├── perplexity_char: 5.7013\n",
            "    └── perplexity_token: 969.8130\n",
            "└── TRAINING:\n",
            "    └── learning_rate: 0.000375\n"
          ]
        },
        {
          "name": "stderr",
          "output_type": "stream",
          "text": [
            "                                                                                                                           \r"
          ]
        },
        {
          "name": "stdout",
          "output_type": "stream",
          "text": [
            "Generating with greedy search...\n",
            "\n",
            "📊 Metrics (Epoch 30):\n",
            "├── TRAIN:\n",
            "│   ├── ce_loss_char: 1.5754\n",
            "│   ├── ce_loss_token: 6.5187\n",
            "│   ├── perplexity_char: 4.8327\n",
            "│   └── perplexity_token: 677.6901\n",
            "└── VAL:\n",
            "    ├── ce_loss_char: 1.7363\n",
            "    ├── ce_loss_token: 6.8599\n",
            "    ├── perplexity_char: 5.6765\n",
            "    └── perplexity_token: 953.2613\n",
            "└── TRAINING:\n",
            "    └── learning_rate: 0.000417\n"
          ]
        },
        {
          "name": "stderr",
          "output_type": "stream",
          "text": [
            "                                                                                                                           \r"
          ]
        },
        {
          "name": "stdout",
          "output_type": "stream",
          "text": [
            "Generating with greedy search...\n",
            "\n",
            "📊 Metrics (Epoch 31):\n",
            "├── TRAIN:\n",
            "│   ├── ce_loss_char: 1.5675\n",
            "│   ├── ce_loss_token: 6.4858\n",
            "│   ├── perplexity_char: 4.7944\n",
            "│   └── perplexity_token: 655.7488\n",
            "└── VAL:\n",
            "    ├── ce_loss_char: 1.7321\n",
            "    ├── ce_loss_token: 6.8432\n",
            "    ├── perplexity_char: 5.6526\n",
            "    └── perplexity_token: 937.4434\n",
            "└── TRAINING:\n",
            "    └── learning_rate: 0.000452\n"
          ]
        },
        {
          "name": "stderr",
          "output_type": "stream",
          "text": [
            "                                                                                                                           \r"
          ]
        },
        {
          "name": "stdout",
          "output_type": "stream",
          "text": [
            "Generating with greedy search...\n",
            "\n",
            "📊 Metrics (Epoch 32):\n",
            "├── TRAIN:\n",
            "│   ├── ce_loss_char: 1.5591\n",
            "│   ├── ce_loss_token: 6.4511\n",
            "│   ├── perplexity_char: 4.7544\n",
            "│   └── perplexity_token: 633.3771\n",
            "└── VAL:\n",
            "    ├── ce_loss_char: 1.7278\n",
            "    ├── ce_loss_token: 6.8260\n",
            "    ├── perplexity_char: 5.6280\n",
            "    └── perplexity_token: 921.4581\n",
            "└── TRAINING:\n",
            "    └── learning_rate: 0.000478\n"
          ]
        },
        {
          "name": "stderr",
          "output_type": "stream",
          "text": [
            "                                                                                                                           \r"
          ]
        },
        {
          "name": "stdout",
          "output_type": "stream",
          "text": [
            "Generating with greedy search...\n",
            "\n",
            "📊 Metrics (Epoch 33):\n",
            "├── TRAIN:\n",
            "│   ├── ce_loss_char: 1.5504\n",
            "│   ├── ce_loss_token: 6.4153\n",
            "│   ├── perplexity_char: 4.7134\n",
            "│   └── perplexity_token: 611.1086\n",
            "└── VAL:\n",
            "    ├── ce_loss_char: 1.7225\n",
            "    ├── ce_loss_token: 6.8052\n",
            "    ├── perplexity_char: 5.5986\n",
            "    └── perplexity_token: 902.5641\n",
            "└── TRAINING:\n",
            "    └── learning_rate: 0.000495\n"
          ]
        },
        {
          "name": "stderr",
          "output_type": "stream",
          "text": [
            "                                                                                                                           \r"
          ]
        },
        {
          "name": "stdout",
          "output_type": "stream",
          "text": [
            "Generating with greedy search...\n",
            "\n",
            "📊 Metrics (Epoch 34):\n",
            "├── TRAIN:\n",
            "│   ├── ce_loss_char: 1.5414\n",
            "│   ├── ce_loss_token: 6.3780\n",
            "│   ├── perplexity_char: 4.6711\n",
            "│   └── perplexity_token: 588.7433\n",
            "└── VAL:\n",
            "    ├── ce_loss_char: 1.7166\n",
            "    ├── ce_loss_token: 6.7818\n",
            "    ├── perplexity_char: 5.5655\n",
            "    └── perplexity_token: 881.6616\n",
            "└── TRAINING:\n",
            "    └── learning_rate: 0.000500\n"
          ]
        },
        {
          "name": "stderr",
          "output_type": "stream",
          "text": [
            "                                                                                                                           \r"
          ]
        },
        {
          "name": "stdout",
          "output_type": "stream",
          "text": [
            "Generating with greedy search...\n",
            "\n",
            "📊 Metrics (Epoch 35):\n",
            "├── TRAIN:\n",
            "│   ├── ce_loss_char: 1.5323\n",
            "│   ├── ce_loss_token: 6.3403\n",
            "│   ├── perplexity_char: 4.6288\n",
            "│   └── perplexity_token: 566.9783\n",
            "└── VAL:\n",
            "    ├── ce_loss_char: 1.7110\n",
            "    ├── ce_loss_token: 6.7598\n",
            "    ├── perplexity_char: 5.5345\n",
            "    └── perplexity_token: 862.4437\n",
            "└── TRAINING:\n",
            "    └── learning_rate: 0.000495\n"
          ]
        },
        {
          "name": "stderr",
          "output_type": "stream",
          "text": [
            "                                                                                                                           \r"
          ]
        },
        {
          "name": "stdout",
          "output_type": "stream",
          "text": [
            "Generating with greedy search...\n",
            "\n",
            "📊 Metrics (Epoch 36):\n",
            "├── TRAIN:\n",
            "│   ├── ce_loss_char: 1.5239\n",
            "│   ├── ce_loss_token: 6.3054\n",
            "│   ├── perplexity_char: 4.5899\n",
            "│   └── perplexity_token: 547.5220\n",
            "└── VAL:\n",
            "    ├── ce_loss_char: 1.7060\n",
            "    ├── ce_loss_token: 6.7399\n",
            "    ├── perplexity_char: 5.5067\n",
            "    └── perplexity_token: 845.4573\n",
            "└── TRAINING:\n",
            "    └── learning_rate: 0.000478\n"
          ]
        },
        {
          "name": "stderr",
          "output_type": "stream",
          "text": [
            "                                                                                                                           \r"
          ]
        },
        {
          "name": "stdout",
          "output_type": "stream",
          "text": [
            "Generating with greedy search...\n",
            "\n",
            "📊 Metrics (Epoch 37):\n",
            "├── TRAIN:\n",
            "│   ├── ce_loss_char: 1.5154\n",
            "│   ├── ce_loss_token: 6.2705\n",
            "│   ├── perplexity_char: 4.5513\n",
            "│   └── perplexity_token: 528.7274\n",
            "└── VAL:\n",
            "    ├── ce_loss_char: 1.7011\n",
            "    ├── ce_loss_token: 6.7208\n",
            "    ├── perplexity_char: 5.4802\n",
            "    └── perplexity_token: 829.5183\n",
            "└── TRAINING:\n",
            "    └── learning_rate: 0.000452\n"
          ]
        },
        {
          "name": "stderr",
          "output_type": "stream",
          "text": [
            "                                                                                                                           \r"
          ]
        },
        {
          "name": "stdout",
          "output_type": "stream",
          "text": [
            "Generating with greedy search...\n",
            "\n",
            "📊 Metrics (Epoch 38):\n",
            "├── TRAIN:\n",
            "│   ├── ce_loss_char: 1.5067\n",
            "│   ├── ce_loss_token: 6.2343\n",
            "│   ├── perplexity_char: 4.5117\n",
            "│   └── perplexity_token: 509.9531\n",
            "└── VAL:\n",
            "    ├── ce_loss_char: 1.6971\n",
            "    ├── ce_loss_token: 6.7048\n",
            "    ├── perplexity_char: 5.4580\n",
            "    └── perplexity_token: 816.2825\n",
            "└── TRAINING:\n",
            "    └── learning_rate: 0.000417\n"
          ]
        },
        {
          "name": "stderr",
          "output_type": "stream",
          "text": [
            "                                                                                                                           \r"
          ]
        },
        {
          "name": "stdout",
          "output_type": "stream",
          "text": [
            "Generating with greedy search...\n",
            "\n",
            "📊 Metrics (Epoch 39):\n",
            "├── TRAIN:\n",
            "│   ├── ce_loss_char: 1.4983\n",
            "│   ├── ce_loss_token: 6.1997\n",
            "│   ├── perplexity_char: 4.4742\n",
            "│   └── perplexity_token: 492.6019\n",
            "└── VAL:\n",
            "    ├── ce_loss_char: 1.6936\n",
            "    ├── ce_loss_token: 6.6908\n",
            "    ├── perplexity_char: 5.4388\n",
            "    └── perplexity_token: 804.9953\n",
            "└── TRAINING:\n",
            "    └── learning_rate: 0.000375\n"
          ]
        }
      ],
      "source": [
        "trainer.train(train_loader, val_loader, epochs=config['training']['epochs'])"
      ]
    },
    {
      "cell_type": "markdown",
      "metadata": {
        "id": "j55r9gK_7Q68"
      },
      "source": [
        "# Evaluate\n"
      ]
    },
    {
      "cell_type": "code",
      "execution_count": 18,
      "metadata": {
        "id": "72D0yzHr7Q68"
      },
      "outputs": [
        {
          "name": "stderr",
          "output_type": "stream",
          "text": [
            "                                                                                                       \r"
          ]
        },
        {
          "name": "stdout",
          "output_type": "stream",
          "text": [
            "\n",
            "📊 Metrics (Epoch 40):\n",
            "└── TEST:\n",
            "    ├── ce_loss_char: 1.8264\n",
            "    ├── ce_loss_token: 6.8014\n",
            "    ├── perplexity_char: 6.2113\n",
            "    └── perplexity_token: 899.1448\n",
            "└── TRAINING:\n",
            "    └── learning_rate: 0.000375\n",
            "Generating with greedy search...\n",
            "Generating with beam search...\n",
            "Could not generate results for beam: SequenceGenerator.generate_beam() missing 1 required positional argument: 'beam_width'\n",
            "Generating with sampling...\n"
          ]
        },
        {
          "data": {
            "text/html": [],
            "text/plain": [
              "<IPython.core.display.HTML object>"
            ]
          },
          "metadata": {},
          "output_type": "display_data"
        },
        {
          "data": {
            "text/html": [
              "<br>    <style><br>        .wandb-row {<br>            display: flex;<br>            flex-direction: row;<br>            flex-wrap: wrap;<br>            justify-content: flex-start;<br>            width: 100%;<br>        }<br>        .wandb-col {<br>            display: flex;<br>            flex-direction: column;<br>            flex-basis: 100%;<br>            flex: 1;<br>            padding: 10px;<br>        }<br>    </style><br><div class=\"wandb-row\"><div class=\"wandb-col\"><h3>Run history:</h3><br/><table class=\"wandb\"><tr><td>learning_rate</td><td>▃▄▅▇███▇▇▆▆▅▄▃▃▂▂▁▁▁▁▁▂▂▃▃▄▅▆▆▇▇█████▇▇▆</td></tr><tr><td>test/ce_loss_char</td><td>▁</td></tr><tr><td>test/ce_loss_token</td><td>▁</td></tr><tr><td>test/perplexity_char</td><td>▁</td></tr><tr><td>test/perplexity_token</td><td>▁</td></tr><tr><td>train/ce_loss_char</td><td>███▇▇▆▆▅▄▄▃▃▃▃▂▂▂▂▂▂▂▂▂▂▂▂▂▂▂▂▂▂▂▂▂▁▁▁▁▁</td></tr><tr><td>train/ce_loss_token</td><td>███▇▇▆▆▅▄▄▃▃▃▃▂▂▂▂▂▂▂▂▂▂▂▂▂▂▂▂▂▂▂▂▂▁▁▁▁▁</td></tr><tr><td>train/perplexity_char</td><td>███▇▇▆▅▄▄▃▃▃▂▂▂▂▂▂▂▂▂▂▂▂▂▂▂▂▂▂▂▂▂▁▁▁▁▁▁▁</td></tr><tr><td>train/perplexity_token</td><td>██▇▆▆▅▄▃▂▂▂▂▂▁▁▁▁▁▁▁▁▁▁▁▁▁▁▁▁▁▁▁▁▁▁▁▁▁▁▁</td></tr><tr><td>val/ce_loss_char</td><td>██▇▇▆▆▅▄▄▃▃▃▂▂▂▂▂▂▂▂▂▂▂▂▂▂▂▂▂▂▂▂▁▁▁▁▁▁▁▁</td></tr><tr><td>val/ce_loss_token</td><td>██▇▇▆▆▅▄▄▃▃▃▂▂▂▂▂▂▂▂▂▂▂▂▂▂▂▂▂▂▂▂▁▁▁▁▁▁▁▁</td></tr><tr><td>val/perplexity_char</td><td>██▇▇▆▅▅▄▃▃▂▂▂▂▂▂▂▂▂▂▂▂▂▂▂▂▂▂▂▂▁▁▁▁▁▁▁▁▁▁</td></tr><tr><td>val/perplexity_token</td><td>██▇▆▅▄▃▃▂▂▂▂▂▁▁▁▁▁▁▁▁▁▁▁▁▁▁▁▁▁▁▁▁▁▁▁▁▁▁▁</td></tr></table><br/></div><div class=\"wandb-col\"><h3>Run summary:</h3><br/><table class=\"wandb\"><tr><td>learning_rate</td><td>0.00038</td></tr><tr><td>test/ce_loss_char</td><td>1.82636</td></tr><tr><td>test/ce_loss_token</td><td>6.80144</td></tr><tr><td>test/perplexity_char</td><td>6.21126</td></tr><tr><td>test/perplexity_token</td><td>899.14478</td></tr><tr><td>train/ce_loss_char</td><td>1.49832</td></tr><tr><td>train/ce_loss_token</td><td>6.1997</td></tr><tr><td>train/perplexity_char</td><td>4.47415</td></tr><tr><td>train/perplexity_token</td><td>492.6019</td></tr><tr><td>val/ce_loss_char</td><td>1.69355</td></tr><tr><td>val/ce_loss_token</td><td>6.69084</td></tr><tr><td>val/perplexity_char</td><td>5.43877</td></tr><tr><td>val/perplexity_token</td><td>804.9953</td></tr></table><br/></div></div>"
            ],
            "text/plain": [
              "<IPython.core.display.HTML object>"
            ]
          },
          "metadata": {},
          "output_type": "display_data"
        },
        {
          "data": {
            "text/html": [
              " View run <strong style=\"color:#cdcd00\">test-lm</strong> at: <a href='https://wandb.ai/kavisarna-cmu/HW4P1/runs/ni25gzs6' target=\"_blank\">https://wandb.ai/kavisarna-cmu/HW4P1/runs/ni25gzs6</a><br> View project at: <a href='https://wandb.ai/kavisarna-cmu/HW4P1' target=\"_blank\">https://wandb.ai/kavisarna-cmu/HW4P1</a><br>Synced 5 W&B file(s), 81 media file(s), 0 artifact file(s) and 44 other file(s)"
            ],
            "text/plain": [
              "<IPython.core.display.HTML object>"
            ]
          },
          "metadata": {},
          "output_type": "display_data"
        },
        {
          "data": {
            "text/html": [
              "Find logs at: <code>./wandb/run-20250423_192426-ni25gzs6/logs</code>"
            ],
            "text/plain": [
              "<IPython.core.display.HTML object>"
            ]
          },
          "metadata": {},
          "output_type": "display_data"
        }
      ],
      "source": [
        "test_metrics, test_generation_results = trainer.evaluate(test_loader)\n",
        "# Cleanup\n",
        "trainer.cleanup()"
      ]
    },
    {
      "cell_type": "markdown",
      "metadata": {
        "id": "KHw8LJp07Q68"
      },
      "source": [
        "# Submission\n",
        "To submit your assignment, you will need to create a `handin.tar` with the following directory structure:\n",
        "\n",
        "```\n",
        "handin/\n",
        "├── mytorch/                     # Your implemented modules\n",
        "├── test_metrics.json            # Results from evaluation\n",
        "├── test_generated_results.json  # Sample text generations\n",
        "└── model_arch.txt               # Model architecture summary\n",
        "```\n",
        "\n",
        "- Simply run the cell below once you are satisfied with your current state and this will create the `handin.tar` file.\n",
        "- After running the above cell, you should see the handin.tar file in the current directory\n",
        "- Upload the `handin.tar` file to the `HW4P1` assignment on Autolab."
      ]
    },
    {
      "cell_type": "code",
      "execution_count": 20,
      "metadata": {
        "id": "KVSPaoOF7Q68"
      },
      "outputs": [
        {
          "name": "stdout",
          "output_type": "stream",
          "text": [
            "Created handin.tar successfully!\n",
            "HW4P1_nb.ipynb        handin.tar            \u001b[34mmytorch\u001b[m\u001b[m\n",
            "README.md             \u001b[34mhw4_data_subset\u001b[m\u001b[m       requirements.txt\n",
            "config.yaml           \u001b[34mhw4_data_subset_dhruv\u001b[m\u001b[m \u001b[34mtests\u001b[m\u001b[m\n",
            "\u001b[34mexpts\u001b[m\u001b[m                 \u001b[34mhw4lib\u001b[m\u001b[m                \u001b[34mwandb\u001b[m\u001b[m\n"
          ]
        }
      ],
      "source": [
        "# Create temporary handin directory\n",
        "if os.path.exists('handin'):\n",
        "    shutil.rmtree('handin')\n",
        "os.makedirs('handin')\n",
        "\n",
        "# Copy mytorch directory\n",
        "shutil.copytree('mytorch', 'handin/mytorch')\n",
        "\n",
        "# Save final results\n",
        "with open('handin/test_metrics.json', 'w') as f:\n",
        "    json.dump(test_metrics, f, indent=4)\n",
        "\n",
        "with open('handin/test_generated_results.json', 'w') as f:\n",
        "    json.dump(test_generation_results['greedy'], f, indent=4)\n",
        "\n",
        "# Save model architecture\n",
        "with open('handin/model_arch.txt', 'w') as f:\n",
        "    f.write(str(model_stats))\n",
        "\n",
        "# Create tar file with all exclusions handled by filter\n",
        "with tarfile.open('handin.tar', 'w') as tar:\n",
        "    def filter_files(tarinfo):\n",
        "        # Skip unwanted files\n",
        "        if any(pattern in tarinfo.name for pattern in [\n",
        "            '.DS_Store',\n",
        "            '__pycache__',\n",
        "            '.pyc'\n",
        "        ]):\n",
        "            return None\n",
        "        return tarinfo\n",
        "\n",
        "    tar.add('handin', arcname='handin', filter=filter_files)\n",
        "\n",
        "# Cleanup\n",
        "shutil.rmtree('handin')\n",
        "\n",
        "print(\"Created handin.tar successfully!\")\n",
        "\n",
        "## After running the above cell, you should see the handin.tar file in the current directory\n",
        "!ls"
      ]
    }
  ],
  "metadata": {
    "accelerator": "GPU",
    "colab": {
      "collapsed_sections": [
        "qQG51p6e7Q6x"
      ],
      "gpuType": "T4",
      "provenance": []
    },
    "kernelspec": {
      "display_name": "IDL_s25",
      "language": "python",
      "name": "python3"
    },
    "language_info": {
      "codemirror_mode": {
        "name": "ipython",
        "version": 3
      },
      "file_extension": ".py",
      "mimetype": "text/x-python",
      "name": "python",
      "nbconvert_exporter": "python",
      "pygments_lexer": "ipython3",
      "version": "3.12.8"
    }
  },
  "nbformat": 4,
  "nbformat_minor": 0
}
